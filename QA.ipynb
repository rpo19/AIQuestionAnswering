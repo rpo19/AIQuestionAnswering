{
 "cells": [
  {
   "cell_type": "code",
   "execution_count": null,
   "id": "analyzed-behavior",
   "metadata": {},
   "outputs": [],
   "source": [
    "from transformers import pipeline\n",
    "import wikipediaapi\n",
    "import pandas as pd\n",
    "import sparql"
   ]
  },
  {
   "cell_type": "markdown",
   "id": "occupational-lawyer",
   "metadata": {},
   "source": [
    "# Load model"
   ]
  },
  {
   "cell_type": "code",
   "execution_count": null,
   "id": "upper-samba",
   "metadata": {},
   "outputs": [],
   "source": [
    "\n",
    "# Generating an answer to the question in context\n",
    "# the model is pretrained on SQuAD by default, but you can either specify it\n",
    "qa = pipeline(\"question-answering\")\n"
   ]
  },
  {
   "cell_type": "markdown",
   "id": "fuzzy-settle",
   "metadata": {},
   "source": [
    "# Model test"
   ]
  },
  {
   "cell_type": "code",
   "execution_count": null,
   "id": "intermediate-relevance",
   "metadata": {},
   "outputs": [],
   "source": [
    "# Open and read the article\n",
    "question = \"What is the capital of the Netherlands?\"\n",
    "context = r\"The four largest cities in the Netherlands are Amsterdam, Rotterdam, The Hague and Utrecht.[17] Amsterdam is the country's most populous city and nominal capital,[18] while The Hague holds the seat of the States General, Cabinet and Supreme Court.[19] The Port of Rotterdam is the busiest seaport in Europe, and the busiest in any country outside East Asia and Southeast Asia, behind only China and Singapore.\""
   ]
  },
  {
   "cell_type": "code",
   "execution_count": null,
   "id": "passing-husband",
   "metadata": {},
   "outputs": [],
   "source": [
    "# search the answer\n",
    "answer = qa(question=question, context=context)"
   ]
  },
  {
   "cell_type": "code",
   "execution_count": null,
   "id": "unexpected-liverpool",
   "metadata": {},
   "outputs": [],
   "source": [
    "# Print the answer\n",
    "print(f\"Context: {context}\")\n",
    "print(f\"Question: {question}\")\n",
    "print(f\"Answer: '{answer['answer']}' with score {answer['score']}\")"
   ]
  },
  {
   "cell_type": "markdown",
   "id": "employed-orientation",
   "metadata": {},
   "source": [
    "# Wikipedia test"
   ]
  },
  {
   "cell_type": "code",
   "execution_count": null,
   "id": "spoken-child",
   "metadata": {},
   "outputs": [],
   "source": [
    "wiki = wikipediaapi.Wikipedia(\n",
    "        language='en',\n",
    "        extract_format=wikipediaapi.ExtractFormat.WIKI\n",
    ")\n",
    "\n",
    "p = wiki.page(\"John Kotelawala\")\n"
   ]
  },
  {
   "cell_type": "code",
   "execution_count": null,
   "id": "differential-registrar",
   "metadata": {},
   "outputs": [],
   "source": [
    "# get text\n",
    "text = p.text\n",
    "print(text)"
   ]
  },
  {
   "cell_type": "code",
   "execution_count": null,
   "id": "rotary-chest",
   "metadata": {},
   "outputs": [],
   "source": [
    "# print text splitted in sections\n",
    "def print_sections(sections, level=0):\n",
    "        for s in sections:\n",
    "                print(\"%s: %s - \\n%s\" % (\"*\" * (level + 1), s.title, s.text))\n",
    "                print_sections(s.sections, level + 1)\n",
    "\n",
    "         \n",
    "print_sections(p.sections)"
   ]
  },
  {
   "cell_type": "markdown",
   "id": "amateur-deputy",
   "metadata": {},
   "source": [
    "# SPARQL test"
   ]
  },
  {
   "cell_type": "code",
   "execution_count": null,
   "id": "several-circuit",
   "metadata": {},
   "outputs": [],
   "source": [
    "# perform query\n",
    "q = 'SELECT DISTINCT ?uri WHERE { <http://dbpedia.org/resource/Doug_Acomb> <http://dbpedia.org/property/playedFor> ?uri } '\n",
    "result = sparql.query('http://dbpedia.org/sparql', q)\n",
    "# print results\n",
    "for row in result:\n",
    "    print(sparql.unpack_row(row))"
   ]
  },
  {
   "cell_type": "code",
   "execution_count": null,
   "id": "major-affiliation",
   "metadata": {},
   "outputs": [],
   "source": [
    "def get_answers(query):\n",
    "    answers = []\n",
    "    results = sparql.query('http://dbpedia.org/sparql', query)\n",
    "    for row in results:\n",
    "        answers.append(sparql.unpack_row(row))        \n",
    "        \n",
    "    return answers\n"
   ]
  },
  {
   "cell_type": "markdown",
   "id": "intermediate-telling",
   "metadata": {},
   "source": [
    "# LC-SQuAD"
   ]
  },
  {
   "cell_type": "code",
   "execution_count": null,
   "id": "alpine-middle",
   "metadata": {},
   "outputs": [],
   "source": [
    "data = pd.read_json('./data/train-data.json')"
   ]
  },
  {
   "cell_type": "code",
   "execution_count": null,
   "id": "detailed-protection",
   "metadata": {},
   "outputs": [],
   "source": [
    "data.head(5)"
   ]
  },
  {
   "cell_type": "code",
   "execution_count": null,
   "id": "prime-sauce",
   "metadata": {},
   "outputs": [],
   "source": [
    "questions = data[data.sparql_template_id == 2][['corrected_question', 'sparql_query']]\n",
    "questions"
   ]
  },
  {
   "cell_type": "code",
   "execution_count": null,
   "id": "expected-patch",
   "metadata": {},
   "outputs": [],
   "source": [
    "# 3, 9 \n",
    "id = 3999\n",
    "q_ex = questions.loc[id]['corrected_question']\n",
    "sparql_ex = questions.loc[id]['sparql_query']\n",
    "print('QUESTION:', q_ex)\n",
    "print('SPARQL:', sparql_ex)\n",
    "print('POSSIBLE ANSWERS: ', get_answers(sparql_ex))"
   ]
  },
  {
   "cell_type": "markdown",
   "id": "color-identity",
   "metadata": {},
   "source": [
    "## Search on wikipedia"
   ]
  },
  {
   "cell_type": "code",
   "execution_count": null,
   "id": "interior-chance",
   "metadata": {},
   "outputs": [],
   "source": [
    "# id: 3\n",
    "# resource = 'Austin College'\n",
    "# subject = 'mascot'\n",
    "\n",
    "# id: 3999\n",
    "resource = 'Doug Acomb'\n",
    "subject = 'team'\n",
    "p = wiki.page(resource)"
   ]
  },
  {
   "cell_type": "code",
   "execution_count": null,
   "id": "greater-trade",
   "metadata": {},
   "outputs": [],
   "source": [
    "max_score = 0\n",
    "best_answer = None\n",
    "# iterate on sections and find answer in each span\n",
    "for section in p.sections:\n",
    "    \n",
    "    #if subject in section.text: # look only in relevant sections???\n",
    "    if section.title != 'External links':\n",
    "        print(section.title)\n",
    "        context = section.text\n",
    "        # exlude empty sections (i.e. macro section intestation)\n",
    "        if context != '':\n",
    "            answer = qa(question=q_ex, context=context)\n",
    "            if answer['score'] > max_score:\n",
    "                max_score = answer['score']\n",
    "                best_answer = answer\n",
    "            print(f\"Answer: '{answer['answer']}' with score {answer['score']}\")\n",
    "            print('#'*10)\n",
    "\n",
    "# print best answer\n",
    "if best_answer is not None:  \n",
    "    print(f\"BEST ANSWER: '{best_answer['answer']}' with score {best_answer['score']}\")\n",
    "else:\n",
    "    print('Sorry, answer not found!')"
   ]
  },
  {
   "cell_type": "code",
   "execution_count": null,
   "id": "republican-salad",
   "metadata": {},
   "outputs": [],
   "source": []
  }
 ],
 "metadata": {
  "kernelspec": {
   "display_name": "Python 3",
   "language": "python",
   "name": "python3"
  },
  "language_info": {
   "codemirror_mode": {
    "name": "ipython",
    "version": 3
   },
   "file_extension": ".py",
   "mimetype": "text/x-python",
   "name": "python",
   "nbconvert_exporter": "python",
   "pygments_lexer": "ipython3",
   "version": "3.8.6"
  }
 },
 "nbformat": 4,
 "nbformat_minor": 5
}
