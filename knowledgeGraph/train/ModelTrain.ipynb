{
 "cells": [
  {
   "cell_type": "code",
   "execution_count": null,
   "metadata": {
    "colab": {
     "base_uri": "https://localhost:8080/"
    },
    "id": "MgmblWemPcva",
    "outputId": "8eb71685-187c-4416-d278-55e8f7a09163"
   },
   "outputs": [],
   "source": [
    "!pip install transformers keras-self-attention attention"
   ]
  },
  {
   "cell_type": "code",
   "execution_count": null,
   "metadata": {
    "id": "wGXEGBV3Patx"
   },
   "outputs": [],
   "source": [
    "import numpy as np\r\n",
    "import pandas as pd\r\n",
    "import tensorflow as tf\r\n",
    "from google.colab import drive\r\n",
    "from tensorflow.keras.layers import LSTM, Bidirectional, GlobalMaxPool1D, Dense, Input, Dropout, Concatenate, TimeDistributed\r\n",
    "from transformers import DistilBertTokenizerFast, DistilBertModel, DistilBertConfig, TFDistilBertModel\r\n",
    "from tensorflow.keras import Model\r\n",
    "from tensorflow.keras.utils import plot_model\r\n",
    "from sklearn.model_selection import train_test_split\r\n",
    "from sklearn.preprocessing import OneHotEncoder\r\n",
    "from tensorflow.keras import callbacks\r\n",
    "from keras_self_attention import SeqSelfAttention\r\n",
    "from tensorflow import keras\r\n",
    "from attention import Attention\r\n",
    "import sklearn.metrics"
   ]
  },
  {
   "cell_type": "code",
   "execution_count": null,
   "metadata": {
    "id": "xah1nECFYGb6"
   },
   "outputs": [],
   "source": [
    "# https://www.kaggle.com/jorgemf/rnn-gru-bidirectional-attentional-context\r\n",
    "\r\n",
    "from keras import backend as K\r\n",
    "from keras.engine.topology import Layer\r\n",
    "from keras import initializers, regularizers, constraints\r\n",
    "import numpy as np\r\n",
    "\r\n",
    "def dot_product(x, kernel):\r\n",
    "    \"\"\"\r\n",
    "    Wrapper for dot product operation, in order to be compatible with both\r\n",
    "    Theano and Tensorflow\r\n",
    "    Args:\r\n",
    "        x (): input\r\n",
    "        kernel (): weights\r\n",
    "    Returns:\r\n",
    "    \"\"\"\r\n",
    "    if K.backend() == 'tensorflow':\r\n",
    "        return K.squeeze(K.dot(x, K.expand_dims(kernel)), axis=-1)\r\n",
    "    else:\r\n",
    "        return K.dot(x, kernel)\r\n",
    "    \r\n",
    "class AttentionWithContext(Layer):\r\n",
    "    \"\"\"\r\n",
    "    Attention operation, with a context/query vector, for temporal data.\r\n",
    "    Supports Masking.\r\n",
    "    Follows the work of Yang et al. [https://www.cs.cmu.edu/~diyiy/docs/naacl16.pdf]\r\n",
    "    \"Hierarchical Attention Networks for Document Classification\"\r\n",
    "    by using a context vector to assist the attention\r\n",
    "    # Input shape\r\n",
    "        3D tensor with shape: `(samples, steps, features)`.\r\n",
    "    # Output shape\r\n",
    "        2D tensor with shape: `(samples, features)`.\r\n",
    "    How to use:\r\n",
    "    Just put it on top of an RNN Layer (GRU/LSTM/SimpleRNN) with return_sequences=True.\r\n",
    "    The dimensions are inferred based on the output shape of the RNN.\r\n",
    "    Note: The layer has been tested with Keras 2.0.6\r\n",
    "    Example:\r\n",
    "        model.add(LSTM(64, return_sequences=True))\r\n",
    "        model.add(AttentionWithContext())\r\n",
    "        # next add a Dense layer (for classification/regression) or whatever...\r\n",
    "    \"\"\"\r\n",
    "\r\n",
    "    def __init__(self,\r\n",
    "                 W_regularizer=None, u_regularizer=None, b_regularizer=None,\r\n",
    "                 W_constraint=None, u_constraint=None, b_constraint=None,\r\n",
    "                 bias=True, **kwargs):\r\n",
    "\r\n",
    "        self.supports_masking = True\r\n",
    "        self.init = initializers.get('glorot_uniform')\r\n",
    "\r\n",
    "        self.W_regularizer = regularizers.get(W_regularizer)\r\n",
    "        self.u_regularizer = regularizers.get(u_regularizer)\r\n",
    "        self.b_regularizer = regularizers.get(b_regularizer)\r\n",
    "\r\n",
    "        self.W_constraint = constraints.get(W_constraint)\r\n",
    "        self.u_constraint = constraints.get(u_constraint)\r\n",
    "        self.b_constraint = constraints.get(b_constraint)\r\n",
    "\r\n",
    "        self.bias = bias\r\n",
    "        super(AttentionWithContext, self).__init__(**kwargs)\r\n",
    "\r\n",
    "    def build(self, input_shape):\r\n",
    "        assert len(input_shape) == 3\r\n",
    "\r\n",
    "        self.W = self.add_weight(shape=(input_shape[-1], input_shape[-1],),\r\n",
    "                                 initializer=self.init,\r\n",
    "                                 name='{}_W'.format(self.name),\r\n",
    "                                 regularizer=self.W_regularizer,\r\n",
    "                                 constraint=self.W_constraint)\r\n",
    "        if self.bias:\r\n",
    "            self.b = self.add_weight(shape=(input_shape[-1],),\r\n",
    "                                     initializer='zero',\r\n",
    "                                     name='{}_b'.format(self.name),\r\n",
    "                                     regularizer=self.b_regularizer,\r\n",
    "                                     constraint=self.b_constraint)\r\n",
    "\r\n",
    "        self.u = self.add_weight(shape=(input_shape[-1],),\r\n",
    "                                 initializer=self.init,\r\n",
    "                                 name='{}_u'.format(self.name),\r\n",
    "                                 regularizer=self.u_regularizer,\r\n",
    "                                 constraint=self.u_constraint)\r\n",
    "\r\n",
    "        super(AttentionWithContext, self).build(input_shape)\r\n",
    "\r\n",
    "    def compute_mask(self, input, input_mask=None):\r\n",
    "        # do not pass the mask to the next layers\r\n",
    "        return None\r\n",
    "\r\n",
    "    def call(self, x, mask=None):\r\n",
    "        uit = dot_product(x, self.W)\r\n",
    "\r\n",
    "        if self.bias:\r\n",
    "            uit += self.b\r\n",
    "\r\n",
    "        uit = K.tanh(uit)\r\n",
    "        ait = dot_product(uit, self.u)\r\n",
    "\r\n",
    "        a = K.exp(ait)\r\n",
    "\r\n",
    "        # apply mask after the exp. will be re-normalized next\r\n",
    "        if mask is not None:\r\n",
    "            # Cast the mask to floatX to avoid float64 upcasting in theano\r\n",
    "            a *= K.cast(mask, K.floatx())\r\n",
    "\r\n",
    "        # in some cases especially in the early stages of training the sum may be almost zero\r\n",
    "        # and this results in NaN's. A workaround is to add a very small positive number ε to the sum.\r\n",
    "        # a /= K.cast(K.sum(a, axis=1, keepdims=True), K.floatx())\r\n",
    "        a /= K.cast(K.sum(a, axis=1, keepdims=True) + K.epsilon(), K.floatx())\r\n",
    "\r\n",
    "        a = K.expand_dims(a)\r\n",
    "        weighted_input = x * a\r\n",
    "        return K.sum(weighted_input, axis=1)\r\n",
    "\r\n",
    "    def compute_output_shape(self, input_shape):\r\n",
    "        return input_shape[0], input_shape[-1]\r\n",
    "    \r\n",
    "    def get_config(self):\r\n",
    "      config = super().get_config().copy()\r\n",
    "      config.update({\r\n",
    "              'W_regularizer': self.W_regularizer,\r\n",
    "              'u_regularizer': self.u_regularizer,\r\n",
    "              'b_regularizer': self.b_regularizer,\r\n",
    "              'W_constraint': self.W_constraint,\r\n",
    "              'u_constraint': self.u_constraint,\r\n",
    "              'b_constraint': self.b_constraint,\r\n",
    "              'bias': self.bias,\r\n",
    "      })\r\n",
    "      return config"
   ]
  },
  {
   "cell_type": "code",
   "execution_count": null,
   "metadata": {
    "colab": {
     "base_uri": "https://localhost:8080/"
    },
    "id": "icVMnb5bPOSn",
    "outputId": "44fd8064-c2c6-4908-da8d-3206cbf5c7ff"
   },
   "outputs": [],
   "source": [
    "# set main directories\r\n",
    "BASE_DIR = '/content/gdrive/MyDrive/AI_BERT_PATTERN_CLASSIFICATION/'\r\n",
    "drive.mount('/content/gdrive', force_remount=True)"
   ]
  },
  {
   "cell_type": "code",
   "execution_count": null,
   "metadata": {
    "id": "vYN1vezeP6Yo"
   },
   "outputs": [],
   "source": [
    "df = pd.read_csv(BASE_DIR + 'data/patterns.csv')"
   ]
  },
  {
   "cell_type": "code",
   "execution_count": null,
   "metadata": {
    "id": "pXUO5uf9RXk0"
   },
   "outputs": [],
   "source": [
    "def preprocess(doc):\r\n",
    "  doc = doc.lower().replace('?', ' ?')\r\n",
    "  return doc"
   ]
  },
  {
   "cell_type": "code",
   "execution_count": null,
   "metadata": {
    "id": "9-3Oh-NwRrSk"
   },
   "outputs": [],
   "source": [
    "df['questions_cleaned'] = df['corrected_question'].apply(preprocess)"
   ]
  },
  {
   "cell_type": "code",
   "execution_count": null,
   "metadata": {
    "colab": {
     "base_uri": "https://localhost:8080/",
     "height": 310
    },
    "id": "IdrP0c35RIjD",
    "outputId": "22183c2a-e42f-4205-d2fe-17560d21d8fa"
   },
   "outputs": [],
   "source": [
    "df.head(5)"
   ]
  },
  {
   "cell_type": "code",
   "execution_count": null,
   "metadata": {
    "colab": {
     "base_uri": "https://localhost:8080/"
    },
    "id": "gt2vLgmCR4n1",
    "outputId": "1e9b1ebc-e423-48ec-f053-881a696b108a"
   },
   "outputs": [],
   "source": [
    "# check max len\r\n",
    "max_len = max(list(map(lambda i: len(i.split()), df['questions_cleaned'].values)))\r\n",
    "print(max_len)"
   ]
  },
  {
   "cell_type": "code",
   "execution_count": null,
   "metadata": {
    "colab": {
     "base_uri": "https://localhost:8080/"
    },
    "id": "ic48ULlOeOGX",
    "outputId": "017072a9-f3cc-4926-da4f-7e12a26b4018"
   },
   "outputs": [],
   "source": [
    "tohot= df['patterns']\n",
    "tohot"
   ]
  },
  {
   "cell_type": "code",
   "execution_count": null,
   "metadata": {
    "id": "HOIiqK76e0iu"
   },
   "outputs": [],
   "source": [
    "onehot = np.zeros((tohot.shape[0],12))"
   ]
  },
  {
   "cell_type": "code",
   "execution_count": null,
   "metadata": {
    "colab": {
     "base_uri": "https://localhost:8080/"
    },
    "id": "MD9wW5h5fELT",
    "outputId": "285c15a8-fa57-402c-95d0-2769c8801f48"
   },
   "outputs": [],
   "source": [
    "onehot.shape"
   ]
  },
  {
   "cell_type": "code",
   "execution_count": null,
   "metadata": {
    "colab": {
     "base_uri": "https://localhost:8080/"
    },
    "id": "IqjixXNib3mx",
    "outputId": "54d07403-1095-4cd1-9405-f6c3ea6cda11"
   },
   "outputs": [],
   "source": [
    "categories = [f\"p{x}\" for x in range(11)] + ['p_notFound']\n",
    "#categories = [f\"p{x}\" for x in range(1,5)]\n",
    "print(categories)"
   ]
  },
  {
   "cell_type": "code",
   "execution_count": null,
   "metadata": {
    "id": "piCAszG2e82y"
   },
   "outputs": [],
   "source": [
    "for i in range(0,onehot.shape[0]):\n",
    "  p = tohot[i]\n",
    "  argp = categories.index(p)\n",
    "  onehot[i, argp] = 1"
   ]
  },
  {
   "cell_type": "code",
   "execution_count": null,
   "metadata": {
    "id": "3HHj-wuNTSGE"
   },
   "outputs": [],
   "source": [
    "## one hot encode target variables\r\n",
    "#encoder = OneHotEncoder(categories=categories, sparse=False)\r\n",
    "## transform data\r\n",
    "#onehot = encoder.fit_transform(s)"
   ]
  },
  {
   "cell_type": "code",
   "execution_count": null,
   "metadata": {
    "colab": {
     "base_uri": "https://localhost:8080/"
    },
    "id": "32dpMolBTtvY",
    "outputId": "dd301c0b-5d72-481b-dadd-5e89fa57974e"
   },
   "outputs": [],
   "source": [
    "onehot"
   ]
  },
  {
   "cell_type": "markdown",
   "metadata": {
    "id": "ad7PfeKzQkxK"
   },
   "source": [
    "## Tokenization"
   ]
  },
  {
   "cell_type": "code",
   "execution_count": null,
   "metadata": {
    "id": "SlqhWdprQQrJ"
   },
   "outputs": [],
   "source": [
    "def bertTokenize(docs, tokenizer):\r\n",
    "  input_ids = []\r\n",
    "  attention_masks = []\r\n",
    "  for doc in docs:\r\n",
    "    bert_inp = tokenizer.encode_plus(doc, add_special_tokens = True,  max_length = max_len, padding = 'max_length', return_attention_mask = True, truncation=True)\r\n",
    "    input_ids.append(bert_inp['input_ids'])\r\n",
    "    attention_masks.append(bert_inp['attention_mask'])\r\n",
    "  return np.array(input_ids, dtype='int32'), np.array(attention_masks, dtype='int32')"
   ]
  },
  {
   "cell_type": "code",
   "execution_count": null,
   "metadata": {
    "colab": {
     "base_uri": "https://localhost:8080/",
     "height": 116,
     "referenced_widgets": [
      "39680b753fae49cc9e300dc61d7f249d",
      "f2ff2dbbc2484192a16691637307cf79",
      "4ae6728005694859be7da4cabb8d456e",
      "3bad320f3bc14ccead2cf76d2f5ae746",
      "bcf2f6ec9e49462db2a1c1c08345deab",
      "075d95ff0d8a4efaa33139d3bc949e51",
      "1a371157b57c4b5494873c97c351a92b",
      "8453e9ade2b449a7912e23c0b7bcfd58",
      "fa42fa4f0f4941ef9a5a213727ea61c3",
      "3ffa55fb0b3f4404b648c8c0364355e8",
      "5916ed38f5c246cc83bd86a3cea1c69c",
      "5008e39bfe424773bbc08a5c1b45c7c9",
      "c9fa123f60614d0eb636ec7e9b274d82",
      "90e82ecfa0ec40298436ab81bcd14ada",
      "9209052862c94f8ea66231f83cca6f54",
      "0ee666a247e04bbeb05cf23bb4097706"
     ]
    },
    "id": "vUB-tE6kQZ0l",
    "outputId": "e0849a99-9bce-4955-cef2-61d95a87abc8"
   },
   "outputs": [],
   "source": [
    "bert_tokenizer = DistilBertTokenizerFast.from_pretrained(\"distilbert-base-uncased\")"
   ]
  },
  {
   "cell_type": "code",
   "execution_count": null,
   "metadata": {
    "id": "nttXbpDPQaGZ"
   },
   "outputs": [],
   "source": [
    "input_ids, attention_masks = bertTokenize(df['corrected_question'].values, bert_tokenizer)"
   ]
  },
  {
   "cell_type": "markdown",
   "metadata": {
    "id": "7-X1LxjZSXRQ"
   },
   "source": [
    "## Split in train and validation"
   ]
  },
  {
   "cell_type": "code",
   "execution_count": null,
   "metadata": {
    "id": "0Jpq5hrtSG0b"
   },
   "outputs": [],
   "source": [
    "ids_train, ids_val, att_train, att_val, y_train, y_val = train_test_split(input_ids, attention_masks, onehot, test_size=0.1, random_state=42)"
   ]
  },
  {
   "cell_type": "markdown",
   "metadata": {
    "id": "SGrFEVnkUXHN"
   },
   "source": [
    "## Build model"
   ]
  },
  {
   "cell_type": "code",
   "execution_count": null,
   "metadata": {
    "id": "8R8KYtSUUR5m"
   },
   "outputs": [],
   "source": [
    "config = DistilBertConfig(dropout=0.2, attention_dropout=0.2, output_hidden_states = False)"
   ]
  },
  {
   "cell_type": "code",
   "execution_count": null,
   "metadata": {
    "colab": {
     "base_uri": "https://localhost:8080/"
    },
    "id": "_8dMWj6zUcxD",
    "outputId": "37bfcbeb-2d8c-4e5f-bf83-a33e358aba74"
   },
   "outputs": [],
   "source": [
    "bert_model = TFDistilBertModel.from_pretrained('distilbert-base-uncased', config=config)"
   ]
  },
  {
   "cell_type": "code",
   "execution_count": null,
   "metadata": {
    "id": "mdbBCshPUfVg"
   },
   "outputs": [],
   "source": [
    "# define inputs\r\n",
    "input_ids_in = Input(shape=(max_len,), name='input_token', dtype='int32')\r\n",
    "input_masks_in = Input(shape=(max_len,), name='masked_token', dtype='int32')\r\n",
    "\r\n",
    "# define embedding layer with Bert weights\r\n",
    "embedding_layer = bert_model.distilbert([input_ids_in, input_masks_in])[0]\r\n",
    "\r\n",
    "# define lstm layer\r\n",
    "lstm_layer = Bidirectional(LSTM(64, return_sequences=True, dropout=0.5))(embedding_layer)\r\n",
    "\r\n",
    "att = AttentionWithContext()(lstm_layer)\r\n",
    "\r\n",
    "# define output layer\r\n",
    "output = Dense(onehot.shape[1], activation='softmax')(att)\r\n",
    "\r\n",
    "model = Model(inputs=[input_ids_in, input_masks_in], outputs = output)\r\n",
    "\r\n",
    "for layer in model.layers:\r\n",
    "  if layer.name == 'distilbert':\r\n",
    "    layer.trainable = False"
   ]
  },
  {
   "cell_type": "code",
   "execution_count": null,
   "metadata": {
    "colab": {
     "base_uri": "https://localhost:8080/"
    },
    "id": "yGdlptpOVJIZ",
    "outputId": "7f140de8-82c8-4bdb-c7ce-22aca6d8ed81"
   },
   "outputs": [],
   "source": [
    "model.summary()"
   ]
  },
  {
   "cell_type": "code",
   "execution_count": null,
   "metadata": {
    "id": "y1NPN2RHVrT7"
   },
   "outputs": [],
   "source": [
    "model.compile(loss='categorical_crossentropy', optimizer='adam', metrics=['accuracy'])"
   ]
  },
  {
   "cell_type": "code",
   "execution_count": null,
   "metadata": {
    "colab": {
     "base_uri": "https://localhost:8080/"
    },
    "id": "PsK2yMkQbG1u",
    "outputId": "1fb45fcd-c79d-4691-96f2-628f51971d6c"
   },
   "outputs": [],
   "source": [
    "y_train.shape"
   ]
  },
  {
   "cell_type": "code",
   "execution_count": null,
   "metadata": {
    "colab": {
     "base_uri": "https://localhost:8080/"
    },
    "id": "xnH-JSmtbIp2",
    "outputId": "cf2331f8-3553-4610-eb2e-7c4a4373e5db"
   },
   "outputs": [],
   "source": [
    "y_val.shape"
   ]
  },
  {
   "cell_type": "code",
   "execution_count": null,
   "metadata": {
    "colab": {
     "base_uri": "https://localhost:8080/"
    },
    "id": "Z608qDLJVhkq",
    "outputId": "5306ffbe-4570-49d0-c0d5-648466b4d39f"
   },
   "outputs": [],
   "source": [
    "history = model.fit([ids_train,att_train], y_train, batch_size=64, epochs=20, \r\n",
    "                    callbacks=callbacks.EarlyStopping(monitor='val_loss', patience=3, restore_best_weights=True),\r\n",
    "                    validation_data=([ids_val,att_val], y_val))"
   ]
  },
  {
   "cell_type": "code",
   "execution_count": null,
   "metadata": {
    "colab": {
     "base_uri": "https://localhost:8080/",
     "height": 282
    },
    "id": "NACaw_nPjc_l",
    "outputId": "9a40db47-8492-48f3-adb7-36da35ef3c12"
   },
   "outputs": [],
   "source": [
    "pd.DataFrame(history.history).plot(y=['loss', 'val_loss'])"
   ]
  },
  {
   "cell_type": "code",
   "execution_count": null,
   "metadata": {
    "id": "kS1gMqJhY2uk"
   },
   "outputs": [],
   "source": [
    "#model.save(BASE_DIR + \"pattern_classifier.h5\")\n",
    "#del model"
   ]
  },
  {
   "cell_type": "code",
   "execution_count": null,
   "metadata": {
    "id": "FnuiD65PjgIC"
   },
   "outputs": [],
   "source": [
    "model = tf.keras.models.load_model(BASE_DIR + \"pattern_classifier.h5\", custom_objects={'AttentionWithContext': AttentionWithContext}) "
   ]
  },
  {
   "cell_type": "code",
   "execution_count": null,
   "metadata": {
    "id": "wicZiDrSjz08"
   },
   "outputs": [],
   "source": [
    "df_test = pd.read_csv(BASE_DIR + 'data/patterns_test.csv')"
   ]
  },
  {
   "cell_type": "code",
   "execution_count": null,
   "metadata": {
    "id": "ySGQVkZfnwqn"
   },
   "outputs": [],
   "source": [
    "df_test['questions_cleaned'] = df_test['corrected_question'].apply(preprocess)"
   ]
  },
  {
   "cell_type": "code",
   "execution_count": null,
   "metadata": {
    "colab": {
     "base_uri": "https://localhost:8080/"
    },
    "id": "2EtQUj1uoGk5",
    "outputId": "caf299a0-e8fc-4c9a-c888-b110dc24cc1d"
   },
   "outputs": [],
   "source": [
    "tohot_test= df_test['patterns']\n",
    "tohot_test"
   ]
  },
  {
   "cell_type": "code",
   "execution_count": null,
   "metadata": {
    "colab": {
     "base_uri": "https://localhost:8080/"
    },
    "id": "37G73SScoNY5",
    "outputId": "c0efcc41-5fcd-4ad9-84ba-ea79d64cbdbe"
   },
   "outputs": [],
   "source": [
    "onehot_test = np.zeros((tohot_test.shape[0],12))\n",
    "onehot_test"
   ]
  },
  {
   "cell_type": "code",
   "execution_count": null,
   "metadata": {
    "id": "vWWkLzaWoU_l"
   },
   "outputs": [],
   "source": [
    "for i in range(0,onehot_test.shape[0]):\n",
    "  p = tohot_test[i]\n",
    "  argp = categories.index(p)\n",
    "  onehot_test[i, argp] = 1"
   ]
  },
  {
   "cell_type": "code",
   "execution_count": null,
   "metadata": {
    "id": "BEE8X0VuolYC"
   },
   "outputs": [],
   "source": [
    "input_ids_test, attention_masks_test = bertTokenize(df_test['corrected_question'].values, bert_tokenizer)"
   ]
  },
  {
   "cell_type": "code",
   "execution_count": null,
   "metadata": {
    "colab": {
     "base_uri": "https://localhost:8080/"
    },
    "id": "qYfjSR3GotHH",
    "outputId": "453f7938-4058-4b0a-ff3e-c06fa7c0a116"
   },
   "outputs": [],
   "source": [
    "evaluation = model.evaluate([input_ids_test, attention_masks_test], onehot_test, return_dict=True)\n",
    "evaluation"
   ]
  },
  {
   "cell_type": "code",
   "execution_count": null,
   "metadata": {
    "colab": {
     "base_uri": "https://localhost:8080/"
    },
    "id": "LDsigS3ppVNf",
    "outputId": "3f1c63e1-6529-4c83-db15-d50a261d8087"
   },
   "outputs": [],
   "source": [
    "y_test_pred = model.predict([input_ids_test, attention_masks_test])\n",
    "y_test_pred"
   ]
  },
  {
   "cell_type": "code",
   "execution_count": null,
   "metadata": {
    "id": "YAteGLU6p7nC"
   },
   "outputs": [],
   "source": [
    "tohot_test_pred = list(map(lambda x: categories[x.argmax()], y_test_pred))"
   ]
  },
  {
   "cell_type": "code",
   "execution_count": null,
   "metadata": {
    "colab": {
     "base_uri": "https://localhost:8080/"
    },
    "id": "Ek0IuNUuq6P1",
    "outputId": "d2660e53-78fe-4329-8bb9-5469596b70a2"
   },
   "outputs": [],
   "source": [
    "pd.DataFrame(tohot_test_pred).value_counts()"
   ]
  },
  {
   "cell_type": "code",
   "execution_count": null,
   "metadata": {
    "colab": {
     "base_uri": "https://localhost:8080/",
     "height": 175
    },
    "id": "FnZCx5hNpaba",
    "outputId": "98c4ef9b-f11f-4299-a447-877fb57035bc"
   },
   "outputs": [],
   "source": [
    "pd.DataFrame(sklearn.metrics.confusion_matrix(tohot_test, tohot_test_pred))"
   ]
  }
 ],
 "metadata": {
  "accelerator": "GPU",
  "colab": {
   "collapsed_sections": [],
   "name": "BERT_pattern_classification_with_attention.ipynb",
   "provenance": []
  },
  "kernelspec": {
   "display_name": "Python 3",
   "name": "python3"
  },
  "widgets": {
   "application/vnd.jupyter.widget-state+json": {
    "075d95ff0d8a4efaa33139d3bc949e51": {
     "model_module": "@jupyter-widgets/base",
     "model_name": "LayoutModel",
     "state": {
      "_model_module": "@jupyter-widgets/base",
      "_model_module_version": "1.2.0",
      "_model_name": "LayoutModel",
      "_view_count": null,
      "_view_module": "@jupyter-widgets/base",
      "_view_module_version": "1.2.0",
      "_view_name": "LayoutView",
      "align_content": null,
      "align_items": null,
      "align_self": null,
      "border": null,
      "bottom": null,
      "display": null,
      "flex": null,
      "flex_flow": null,
      "grid_area": null,
      "grid_auto_columns": null,
      "grid_auto_flow": null,
      "grid_auto_rows": null,
      "grid_column": null,
      "grid_gap": null,
      "grid_row": null,
      "grid_template_areas": null,
      "grid_template_columns": null,
      "grid_template_rows": null,
      "height": null,
      "justify_content": null,
      "justify_items": null,
      "left": null,
      "margin": null,
      "max_height": null,
      "max_width": null,
      "min_height": null,
      "min_width": null,
      "object_fit": null,
      "object_position": null,
      "order": null,
      "overflow": null,
      "overflow_x": null,
      "overflow_y": null,
      "padding": null,
      "right": null,
      "top": null,
      "visibility": null,
      "width": null
     }
    },
    "0ee666a247e04bbeb05cf23bb4097706": {
     "model_module": "@jupyter-widgets/base",
     "model_name": "LayoutModel",
     "state": {
      "_model_module": "@jupyter-widgets/base",
      "_model_module_version": "1.2.0",
      "_model_name": "LayoutModel",
      "_view_count": null,
      "_view_module": "@jupyter-widgets/base",
      "_view_module_version": "1.2.0",
      "_view_name": "LayoutView",
      "align_content": null,
      "align_items": null,
      "align_self": null,
      "border": null,
      "bottom": null,
      "display": null,
      "flex": null,
      "flex_flow": null,
      "grid_area": null,
      "grid_auto_columns": null,
      "grid_auto_flow": null,
      "grid_auto_rows": null,
      "grid_column": null,
      "grid_gap": null,
      "grid_row": null,
      "grid_template_areas": null,
      "grid_template_columns": null,
      "grid_template_rows": null,
      "height": null,
      "justify_content": null,
      "justify_items": null,
      "left": null,
      "margin": null,
      "max_height": null,
      "max_width": null,
      "min_height": null,
      "min_width": null,
      "object_fit": null,
      "object_position": null,
      "order": null,
      "overflow": null,
      "overflow_x": null,
      "overflow_y": null,
      "padding": null,
      "right": null,
      "top": null,
      "visibility": null,
      "width": null
     }
    },
    "1a371157b57c4b5494873c97c351a92b": {
     "model_module": "@jupyter-widgets/controls",
     "model_name": "DescriptionStyleModel",
     "state": {
      "_model_module": "@jupyter-widgets/controls",
      "_model_module_version": "1.5.0",
      "_model_name": "DescriptionStyleModel",
      "_view_count": null,
      "_view_module": "@jupyter-widgets/base",
      "_view_module_version": "1.2.0",
      "_view_name": "StyleView",
      "description_width": ""
     }
    },
    "39680b753fae49cc9e300dc61d7f249d": {
     "model_module": "@jupyter-widgets/controls",
     "model_name": "HBoxModel",
     "state": {
      "_dom_classes": [],
      "_model_module": "@jupyter-widgets/controls",
      "_model_module_version": "1.5.0",
      "_model_name": "HBoxModel",
      "_view_count": null,
      "_view_module": "@jupyter-widgets/controls",
      "_view_module_version": "1.5.0",
      "_view_name": "HBoxView",
      "box_style": "",
      "children": [
       "IPY_MODEL_4ae6728005694859be7da4cabb8d456e",
       "IPY_MODEL_3bad320f3bc14ccead2cf76d2f5ae746"
      ],
      "layout": "IPY_MODEL_f2ff2dbbc2484192a16691637307cf79"
     }
    },
    "3bad320f3bc14ccead2cf76d2f5ae746": {
     "model_module": "@jupyter-widgets/controls",
     "model_name": "HTMLModel",
     "state": {
      "_dom_classes": [],
      "_model_module": "@jupyter-widgets/controls",
      "_model_module_version": "1.5.0",
      "_model_name": "HTMLModel",
      "_view_count": null,
      "_view_module": "@jupyter-widgets/controls",
      "_view_module_version": "1.5.0",
      "_view_name": "HTMLView",
      "description": "",
      "description_tooltip": null,
      "layout": "IPY_MODEL_8453e9ade2b449a7912e23c0b7bcfd58",
      "placeholder": "​",
      "style": "IPY_MODEL_1a371157b57c4b5494873c97c351a92b",
      "value": " 232k/232k [00:02&lt;00:00, 105kB/s]"
     }
    },
    "3ffa55fb0b3f4404b648c8c0364355e8": {
     "model_module": "@jupyter-widgets/base",
     "model_name": "LayoutModel",
     "state": {
      "_model_module": "@jupyter-widgets/base",
      "_model_module_version": "1.2.0",
      "_model_name": "LayoutModel",
      "_view_count": null,
      "_view_module": "@jupyter-widgets/base",
      "_view_module_version": "1.2.0",
      "_view_name": "LayoutView",
      "align_content": null,
      "align_items": null,
      "align_self": null,
      "border": null,
      "bottom": null,
      "display": null,
      "flex": null,
      "flex_flow": null,
      "grid_area": null,
      "grid_auto_columns": null,
      "grid_auto_flow": null,
      "grid_auto_rows": null,
      "grid_column": null,
      "grid_gap": null,
      "grid_row": null,
      "grid_template_areas": null,
      "grid_template_columns": null,
      "grid_template_rows": null,
      "height": null,
      "justify_content": null,
      "justify_items": null,
      "left": null,
      "margin": null,
      "max_height": null,
      "max_width": null,
      "min_height": null,
      "min_width": null,
      "object_fit": null,
      "object_position": null,
      "order": null,
      "overflow": null,
      "overflow_x": null,
      "overflow_y": null,
      "padding": null,
      "right": null,
      "top": null,
      "visibility": null,
      "width": null
     }
    },
    "4ae6728005694859be7da4cabb8d456e": {
     "model_module": "@jupyter-widgets/controls",
     "model_name": "FloatProgressModel",
     "state": {
      "_dom_classes": [],
      "_model_module": "@jupyter-widgets/controls",
      "_model_module_version": "1.5.0",
      "_model_name": "FloatProgressModel",
      "_view_count": null,
      "_view_module": "@jupyter-widgets/controls",
      "_view_module_version": "1.5.0",
      "_view_name": "ProgressView",
      "bar_style": "success",
      "description": "Downloading: 100%",
      "description_tooltip": null,
      "layout": "IPY_MODEL_075d95ff0d8a4efaa33139d3bc949e51",
      "max": 231508,
      "min": 0,
      "orientation": "horizontal",
      "style": "IPY_MODEL_bcf2f6ec9e49462db2a1c1c08345deab",
      "value": 231508
     }
    },
    "5008e39bfe424773bbc08a5c1b45c7c9": {
     "model_module": "@jupyter-widgets/controls",
     "model_name": "HTMLModel",
     "state": {
      "_dom_classes": [],
      "_model_module": "@jupyter-widgets/controls",
      "_model_module_version": "1.5.0",
      "_model_name": "HTMLModel",
      "_view_count": null,
      "_view_module": "@jupyter-widgets/controls",
      "_view_module_version": "1.5.0",
      "_view_name": "HTMLView",
      "description": "",
      "description_tooltip": null,
      "layout": "IPY_MODEL_0ee666a247e04bbeb05cf23bb4097706",
      "placeholder": "​",
      "style": "IPY_MODEL_9209052862c94f8ea66231f83cca6f54",
      "value": " 466k/466k [00:02&lt;00:00, 221kB/s]"
     }
    },
    "5916ed38f5c246cc83bd86a3cea1c69c": {
     "model_module": "@jupyter-widgets/controls",
     "model_name": "FloatProgressModel",
     "state": {
      "_dom_classes": [],
      "_model_module": "@jupyter-widgets/controls",
      "_model_module_version": "1.5.0",
      "_model_name": "FloatProgressModel",
      "_view_count": null,
      "_view_module": "@jupyter-widgets/controls",
      "_view_module_version": "1.5.0",
      "_view_name": "ProgressView",
      "bar_style": "success",
      "description": "Downloading: 100%",
      "description_tooltip": null,
      "layout": "IPY_MODEL_90e82ecfa0ec40298436ab81bcd14ada",
      "max": 466062,
      "min": 0,
      "orientation": "horizontal",
      "style": "IPY_MODEL_c9fa123f60614d0eb636ec7e9b274d82",
      "value": 466062
     }
    },
    "8453e9ade2b449a7912e23c0b7bcfd58": {
     "model_module": "@jupyter-widgets/base",
     "model_name": "LayoutModel",
     "state": {
      "_model_module": "@jupyter-widgets/base",
      "_model_module_version": "1.2.0",
      "_model_name": "LayoutModel",
      "_view_count": null,
      "_view_module": "@jupyter-widgets/base",
      "_view_module_version": "1.2.0",
      "_view_name": "LayoutView",
      "align_content": null,
      "align_items": null,
      "align_self": null,
      "border": null,
      "bottom": null,
      "display": null,
      "flex": null,
      "flex_flow": null,
      "grid_area": null,
      "grid_auto_columns": null,
      "grid_auto_flow": null,
      "grid_auto_rows": null,
      "grid_column": null,
      "grid_gap": null,
      "grid_row": null,
      "grid_template_areas": null,
      "grid_template_columns": null,
      "grid_template_rows": null,
      "height": null,
      "justify_content": null,
      "justify_items": null,
      "left": null,
      "margin": null,
      "max_height": null,
      "max_width": null,
      "min_height": null,
      "min_width": null,
      "object_fit": null,
      "object_position": null,
      "order": null,
      "overflow": null,
      "overflow_x": null,
      "overflow_y": null,
      "padding": null,
      "right": null,
      "top": null,
      "visibility": null,
      "width": null
     }
    },
    "90e82ecfa0ec40298436ab81bcd14ada": {
     "model_module": "@jupyter-widgets/base",
     "model_name": "LayoutModel",
     "state": {
      "_model_module": "@jupyter-widgets/base",
      "_model_module_version": "1.2.0",
      "_model_name": "LayoutModel",
      "_view_count": null,
      "_view_module": "@jupyter-widgets/base",
      "_view_module_version": "1.2.0",
      "_view_name": "LayoutView",
      "align_content": null,
      "align_items": null,
      "align_self": null,
      "border": null,
      "bottom": null,
      "display": null,
      "flex": null,
      "flex_flow": null,
      "grid_area": null,
      "grid_auto_columns": null,
      "grid_auto_flow": null,
      "grid_auto_rows": null,
      "grid_column": null,
      "grid_gap": null,
      "grid_row": null,
      "grid_template_areas": null,
      "grid_template_columns": null,
      "grid_template_rows": null,
      "height": null,
      "justify_content": null,
      "justify_items": null,
      "left": null,
      "margin": null,
      "max_height": null,
      "max_width": null,
      "min_height": null,
      "min_width": null,
      "object_fit": null,
      "object_position": null,
      "order": null,
      "overflow": null,
      "overflow_x": null,
      "overflow_y": null,
      "padding": null,
      "right": null,
      "top": null,
      "visibility": null,
      "width": null
     }
    },
    "9209052862c94f8ea66231f83cca6f54": {
     "model_module": "@jupyter-widgets/controls",
     "model_name": "DescriptionStyleModel",
     "state": {
      "_model_module": "@jupyter-widgets/controls",
      "_model_module_version": "1.5.0",
      "_model_name": "DescriptionStyleModel",
      "_view_count": null,
      "_view_module": "@jupyter-widgets/base",
      "_view_module_version": "1.2.0",
      "_view_name": "StyleView",
      "description_width": ""
     }
    },
    "bcf2f6ec9e49462db2a1c1c08345deab": {
     "model_module": "@jupyter-widgets/controls",
     "model_name": "ProgressStyleModel",
     "state": {
      "_model_module": "@jupyter-widgets/controls",
      "_model_module_version": "1.5.0",
      "_model_name": "ProgressStyleModel",
      "_view_count": null,
      "_view_module": "@jupyter-widgets/base",
      "_view_module_version": "1.2.0",
      "_view_name": "StyleView",
      "bar_color": null,
      "description_width": "initial"
     }
    },
    "c9fa123f60614d0eb636ec7e9b274d82": {
     "model_module": "@jupyter-widgets/controls",
     "model_name": "ProgressStyleModel",
     "state": {
      "_model_module": "@jupyter-widgets/controls",
      "_model_module_version": "1.5.0",
      "_model_name": "ProgressStyleModel",
      "_view_count": null,
      "_view_module": "@jupyter-widgets/base",
      "_view_module_version": "1.2.0",
      "_view_name": "StyleView",
      "bar_color": null,
      "description_width": "initial"
     }
    },
    "f2ff2dbbc2484192a16691637307cf79": {
     "model_module": "@jupyter-widgets/base",
     "model_name": "LayoutModel",
     "state": {
      "_model_module": "@jupyter-widgets/base",
      "_model_module_version": "1.2.0",
      "_model_name": "LayoutModel",
      "_view_count": null,
      "_view_module": "@jupyter-widgets/base",
      "_view_module_version": "1.2.0",
      "_view_name": "LayoutView",
      "align_content": null,
      "align_items": null,
      "align_self": null,
      "border": null,
      "bottom": null,
      "display": null,
      "flex": null,
      "flex_flow": null,
      "grid_area": null,
      "grid_auto_columns": null,
      "grid_auto_flow": null,
      "grid_auto_rows": null,
      "grid_column": null,
      "grid_gap": null,
      "grid_row": null,
      "grid_template_areas": null,
      "grid_template_columns": null,
      "grid_template_rows": null,
      "height": null,
      "justify_content": null,
      "justify_items": null,
      "left": null,
      "margin": null,
      "max_height": null,
      "max_width": null,
      "min_height": null,
      "min_width": null,
      "object_fit": null,
      "object_position": null,
      "order": null,
      "overflow": null,
      "overflow_x": null,
      "overflow_y": null,
      "padding": null,
      "right": null,
      "top": null,
      "visibility": null,
      "width": null
     }
    },
    "fa42fa4f0f4941ef9a5a213727ea61c3": {
     "model_module": "@jupyter-widgets/controls",
     "model_name": "HBoxModel",
     "state": {
      "_dom_classes": [],
      "_model_module": "@jupyter-widgets/controls",
      "_model_module_version": "1.5.0",
      "_model_name": "HBoxModel",
      "_view_count": null,
      "_view_module": "@jupyter-widgets/controls",
      "_view_module_version": "1.5.0",
      "_view_name": "HBoxView",
      "box_style": "",
      "children": [
       "IPY_MODEL_5916ed38f5c246cc83bd86a3cea1c69c",
       "IPY_MODEL_5008e39bfe424773bbc08a5c1b45c7c9"
      ],
      "layout": "IPY_MODEL_3ffa55fb0b3f4404b648c8c0364355e8"
     }
    }
   }
  }
 },
 "nbformat": 4,
 "nbformat_minor": 0
}
