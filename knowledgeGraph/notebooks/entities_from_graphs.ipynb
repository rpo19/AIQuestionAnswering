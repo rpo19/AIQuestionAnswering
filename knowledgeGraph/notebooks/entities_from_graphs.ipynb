{
 "cells": [
  {
   "cell_type": "code",
   "execution_count": null,
   "id": "difficult-compilation",
   "metadata": {},
   "outputs": [],
   "source": [
    "import os"
   ]
  },
  {
   "cell_type": "code",
   "execution_count": null,
   "id": "comic-subdivision",
   "metadata": {},
   "outputs": [],
   "source": [
    "os.chdir('data')"
   ]
  },
  {
   "cell_type": "code",
   "execution_count": null,
   "id": "constant-economics",
   "metadata": {},
   "outputs": [],
   "source": [
    "!ls"
   ]
  },
  {
   "cell_type": "code",
   "execution_count": null,
   "id": "blind-bride",
   "metadata": {},
   "outputs": [],
   "source": [
    "os.chdir('lc-quad')"
   ]
  },
  {
   "cell_type": "code",
   "execution_count": null,
   "id": "flying-sensitivity",
   "metadata": {},
   "outputs": [],
   "source": [
    "!ls"
   ]
  },
  {
   "cell_type": "code",
   "execution_count": null,
   "id": "color-diagnosis",
   "metadata": {},
   "outputs": [],
   "source": [
    "import pandas as pd"
   ]
  },
  {
   "cell_type": "code",
   "execution_count": null,
   "id": "nasty-motor",
   "metadata": {},
   "outputs": [],
   "source": [
    "gabri = pd.read_json('./whole_with_types.jsonl', orient='records', lines=True)\n",
    "cbe = pd.read_json('./whole_cbe.jsonl', orient='records', lines=True)"
   ]
  },
  {
   "cell_type": "code",
   "execution_count": null,
   "id": "indonesian-onion",
   "metadata": {},
   "outputs": [],
   "source": [
    "gabri.shape"
   ]
  },
  {
   "cell_type": "code",
   "execution_count": null,
   "id": "heavy-kingdom",
   "metadata": {},
   "outputs": [],
   "source": [
    "cbe.shape"
   ]
  },
  {
   "cell_type": "code",
   "execution_count": null,
   "id": "structured-george",
   "metadata": {},
   "outputs": [],
   "source": [
    "gabri.columns"
   ]
  },
  {
   "cell_type": "code",
   "execution_count": null,
   "id": "valued-thriller",
   "metadata": {},
   "outputs": [],
   "source": [
    "cbe.columns"
   ]
  },
  {
   "cell_type": "code",
   "execution_count": null,
   "id": "infrared-prediction",
   "metadata": {},
   "outputs": [],
   "source": [
    "cbe['predicted_question_type'] = gabri['predicted_question_type']"
   ]
  },
  {
   "cell_type": "code",
   "execution_count": null,
   "id": "governmental-actor",
   "metadata": {},
   "outputs": [],
   "source": [
    "cbe.shape"
   ]
  },
  {
   "cell_type": "code",
   "execution_count": null,
   "id": "absolute-pottery",
   "metadata": {},
   "outputs": [],
   "source": [
    "cbe.iloc[0]"
   ]
  },
  {
   "cell_type": "code",
   "execution_count": null,
   "id": "julian-league",
   "metadata": {},
   "outputs": [],
   "source": [
    "cbe['predicted_question_type'].value_counts()"
   ]
  },
  {
   "cell_type": "code",
   "execution_count": null,
   "id": "together-default",
   "metadata": {},
   "outputs": [],
   "source": [
    "cbe['correct_question_type'].value_counts()"
   ]
  },
  {
   "cell_type": "code",
   "execution_count": null,
   "id": "varied-charge",
   "metadata": {},
   "outputs": [],
   "source": [
    "cbe['predicted_question_type'] = cbe['predicted_question_type'].apply(lambda x: 'select-type' if x == 'select' else x)"
   ]
  },
  {
   "cell_type": "code",
   "execution_count": null,
   "id": "graduate-microphone",
   "metadata": {},
   "outputs": [],
   "source": [
    "cbe['predicted_question_type'].value_counts()"
   ]
  },
  {
   "cell_type": "code",
   "execution_count": null,
   "id": "accompanied-tower",
   "metadata": {},
   "outputs": [],
   "source": [
    "cbe['correct_question_type'].isna().sum()"
   ]
  },
  {
   "cell_type": "code",
   "execution_count": null,
   "id": "lesbian-ensemble",
   "metadata": {},
   "outputs": [],
   "source": [
    "cbe.to_json('./final.jsonl', orient='records', lines=True)"
   ]
  },
  {
   "cell_type": "code",
   "execution_count": null,
   "id": "terminal-sandwich",
   "metadata": {},
   "outputs": [],
   "source": [
    "cbe.iloc[0]"
   ]
  },
  {
   "cell_type": "code",
   "execution_count": null,
   "id": "atomic-moral",
   "metadata": {},
   "outputs": [],
   "source": [
    "cbe.iloc[0]['corrected_question']"
   ]
  },
  {
   "cell_type": "code",
   "execution_count": null,
   "id": "strategic-promotion",
   "metadata": {},
   "outputs": [],
   "source": [
    "cbe.iloc[0]['intermediary_question']"
   ]
  },
  {
   "cell_type": "code",
   "execution_count": null,
   "id": "palestinian-swing",
   "metadata": {},
   "outputs": [],
   "source": [
    "ex = cbe.iloc[0]['graph']"
   ]
  },
  {
   "cell_type": "code",
   "execution_count": null,
   "id": "pretty-concentrate",
   "metadata": {},
   "outputs": [],
   "source": [
    "import json\n",
    "ex"
   ]
  },
  {
   "cell_type": "code",
   "execution_count": null,
   "id": "collective-belief",
   "metadata": {},
   "outputs": [],
   "source": [
    "exj = json.loads(ex)"
   ]
  },
  {
   "cell_type": "code",
   "execution_count": null,
   "id": "sublime-biography",
   "metadata": {},
   "outputs": [],
   "source": [
    "exj"
   ]
  },
  {
   "cell_type": "code",
   "execution_count": null,
   "id": "relative-psychology",
   "metadata": {},
   "outputs": [],
   "source": [
    "exset = set()"
   ]
  },
  {
   "cell_type": "code",
   "execution_count": null,
   "id": "therapeutic-simon",
   "metadata": {},
   "outputs": [],
   "source": [
    "exset |= set(exj.keys())"
   ]
  },
  {
   "cell_type": "code",
   "execution_count": null,
   "id": "thirty-provision",
   "metadata": {},
   "outputs": [],
   "source": [
    "exset"
   ]
  },
  {
   "cell_type": "code",
   "execution_count": null,
   "id": "arranged-halifax",
   "metadata": {},
   "outputs": [],
   "source": [
    "mygen(exj)"
   ]
  },
  {
   "cell_type": "code",
   "execution_count": null,
   "id": "unauthorized-essex",
   "metadata": {},
   "outputs": [],
   "source": [
    "cbe.iloc[0]['sparql_query']"
   ]
  },
  {
   "cell_type": "code",
   "execution_count": null,
   "id": "daily-incidence",
   "metadata": {},
   "outputs": [],
   "source": [
    "cbe.iloc[0]['predicted_entities']"
   ]
  },
  {
   "cell_type": "code",
   "execution_count": null,
   "id": "adverse-entrance",
   "metadata": {},
   "outputs": [],
   "source": [
    "whole = cbe"
   ]
  },
  {
   "cell_type": "code",
   "execution_count": null,
   "id": "elect-august",
   "metadata": {},
   "outputs": [],
   "source": [
    "def isvar(item):\n",
    "    return item[0] == '?'\n",
    "def getEntsPreds(graph):\n",
    "    if graph is None:\n",
    "        return None,None\n",
    "    entities = []\n",
    "    preds = []\n",
    "    if isinstance(graph, str):\n",
    "        graph = json.loads(graph)\n",
    "    for sub,v in graph.items():\n",
    "        for obj, v2 in v.items():\n",
    "            pred = v2['label']\n",
    "            if not isvar(obj):\n",
    "                entities.append(obj)\n",
    "            if not isvar(pred):\n",
    "                preds.append(pred)\n",
    "        if not isvar(sub):\n",
    "            entities.append(sub)\n",
    "    return entities, preds"
   ]
  },
  {
   "cell_type": "code",
   "execution_count": null,
   "id": "connected-phoenix",
   "metadata": {},
   "outputs": [],
   "source": [
    "res = whole['graph'].apply(getEntsPreds)"
   ]
  },
  {
   "cell_type": "code",
   "execution_count": null,
   "id": "governmental-judges",
   "metadata": {},
   "outputs": [],
   "source": [
    "whole['correct_entities'] = [e for e,_ in res]"
   ]
  },
  {
   "cell_type": "code",
   "execution_count": null,
   "id": "strong-cause",
   "metadata": {},
   "outputs": [],
   "source": [
    "whole['correct_predicates'] = [p for _,p in res]"
   ]
  },
  {
   "cell_type": "code",
   "execution_count": null,
   "id": "supreme-myanmar",
   "metadata": {},
   "outputs": [],
   "source": [
    "whole.columns"
   ]
  },
  {
   "cell_type": "code",
   "execution_count": null,
   "id": "liable-gravity",
   "metadata": {},
   "outputs": [],
   "source": [
    "res_pred = whole['predicted_graph'].apply(getEntsPreds)"
   ]
  },
  {
   "cell_type": "code",
   "execution_count": null,
   "id": "respiratory-lawyer",
   "metadata": {},
   "outputs": [],
   "source": [
    "res_pred"
   ]
  },
  {
   "cell_type": "code",
   "execution_count": null,
   "id": "administrative-stopping",
   "metadata": {},
   "outputs": [],
   "source": [
    "whole['predicted_entities_from_graph'] = [e for e,_ in res_pred]"
   ]
  },
  {
   "cell_type": "code",
   "execution_count": null,
   "id": "surface-campbell",
   "metadata": {},
   "outputs": [],
   "source": [
    "whole['predicted_predicates_from_graph'] = [p for _,p in res_pred]"
   ]
  },
  {
   "cell_type": "code",
   "execution_count": null,
   "id": "going-terminology",
   "metadata": {},
   "outputs": [],
   "source": [
    "whole['predicted_entities_from_graph'] == whole['predicted_entities']"
   ]
  },
  {
   "cell_type": "code",
   "execution_count": null,
   "id": "seven-directory",
   "metadata": {},
   "outputs": [],
   "source": [
    "whole.iloc[0]['predicted_entities']"
   ]
  },
  {
   "cell_type": "code",
   "execution_count": null,
   "id": "deadly-attack",
   "metadata": {},
   "outputs": [],
   "source": [
    "whole.iloc[0]['predicted_entities_from_graph']"
   ]
  },
  {
   "cell_type": "code",
   "execution_count": null,
   "id": "continent-berry",
   "metadata": {},
   "outputs": [],
   "source": [
    "os.getcwd()"
   ]
  },
  {
   "cell_type": "code",
   "execution_count": null,
   "id": "surface-psychology",
   "metadata": {},
   "outputs": [],
   "source": [
    "whole.to_json('./whole_20200417plus.jsonl', orient='records', lines=True)"
   ]
  },
  {
   "cell_type": "code",
   "execution_count": null,
   "id": "common-communist",
   "metadata": {},
   "outputs": [],
   "source": [
    "whole"
   ]
  }
 ],
 "metadata": {
  "kernelspec": {
   "display_name": "Python 3",
   "language": "python",
   "name": "python3"
  },
  "language_info": {
   "codemirror_mode": {
    "name": "ipython",
    "version": 3
   },
   "file_extension": ".py",
   "mimetype": "text/x-python",
   "name": "python",
   "nbconvert_exporter": "python",
   "pygments_lexer": "ipython3",
   "version": "3.8.6"
  }
 },
 "nbformat": 4,
 "nbformat_minor": 5
}
