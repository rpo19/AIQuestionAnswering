{
 "cells": [
  {
   "cell_type": "code",
   "execution_count": 1,
   "id": "smaller-collectible",
   "metadata": {},
   "outputs": [],
   "source": [
    "import sparql\n",
    "import numpy as np\n",
    "import json"
   ]
  },
  {
   "cell_type": "code",
   "execution_count": 2,
   "id": "falling-instruction",
   "metadata": {},
   "outputs": [],
   "source": [
    "with open('../../data/test-data.json', 'r') as f:\n",
    "    data = json.load(f)"
   ]
  },
  {
   "cell_type": "code",
   "execution_count": 3,
   "id": "friendly-duplicate",
   "metadata": {},
   "outputs": [],
   "source": [
    "def get_question(question_raw):\n",
    "    return {\n",
    "            'id': question_raw['_id'],\n",
    "            'question': question_raw['corrected_question'],\n",
    "            'query': question_raw['sparql_query']\n",
    "           }"
   ]
  },
  {
   "cell_type": "code",
   "execution_count": 4,
   "id": "described-julian",
   "metadata": {},
   "outputs": [],
   "source": [
    "clean_data = list(map(get_question, data))"
   ]
  },
  {
   "cell_type": "code",
   "execution_count": 5,
   "id": "collect-binary",
   "metadata": {},
   "outputs": [],
   "source": [
    "def get_answer(query, endpoint = 'http://dbpedia.org/sparql'):\n",
    "    results = sparql.query(endpoint, query)\n",
    "    return [res[0].n3() for res in results]"
   ]
  },
  {
   "cell_type": "code",
   "execution_count": 17,
   "id": "automated-authority",
   "metadata": {},
   "outputs": [
    {
     "name": "stdout",
     "output_type": "stream",
     "text": [
      "\r",
      "1"
     ]
    }
   ],
   "source": [
    "for i, question in enumerate(clean_data):\n",
    "    print('\\r' + '{0}'.format(i+1), end='')\n",
    "    question['answer'] = get_answer(question['query'])"
   ]
  },
  {
   "cell_type": "code",
   "execution_count": 22,
   "id": "higher-listening",
   "metadata": {},
   "outputs": [],
   "source": [
    "with open('../../data/test-data-answers.json', 'w') as f:\n",
    "    json.dump(clean_data, f)"
   ]
  },
  {
   "cell_type": "code",
   "execution_count": 20,
   "id": "invisible-latitude",
   "metadata": {},
   "outputs": [],
   "source": [
    "empty = [1 if len(question['answer']) == 0 else 0 for question in clean_data]"
   ]
  },
  {
   "cell_type": "code",
   "execution_count": 21,
   "id": "announced-river",
   "metadata": {},
   "outputs": [
    {
     "data": {
      "text/plain": [
       "438"
      ]
     },
     "execution_count": 21,
     "metadata": {},
     "output_type": "execute_result"
    }
   ],
   "source": [
    "empty.count(1)"
   ]
  }
 ],
 "metadata": {
  "kernelspec": {
   "display_name": "Python 3",
   "language": "python",
   "name": "python3"
  },
  "language_info": {
   "codemirror_mode": {
    "name": "ipython",
    "version": 3
   },
   "file_extension": ".py",
   "mimetype": "text/x-python",
   "name": "python",
   "nbconvert_exporter": "python",
   "pygments_lexer": "ipython3",
   "version": "3.8.3"
  }
 },
 "nbformat": 4,
 "nbformat_minor": 5
}
