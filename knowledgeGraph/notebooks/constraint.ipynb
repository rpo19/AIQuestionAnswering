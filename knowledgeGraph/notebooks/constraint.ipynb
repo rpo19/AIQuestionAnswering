{
 "cells": [
  {
   "cell_type": "markdown",
   "id": "scenic-magnet",
   "metadata": {},
   "source": [
    "• answer-type constraint, e.g., “which actor”;\n",
    "\n",
    "• ordinal constraint, e.g., “highest”; <br> If a question contains ordinal number or superlative phrase from WordNet (Miller, 1995), then it\n",
    "belongs in the Ordinal category\n",
    "\n",
    "• aggregation constraint, e.g., “how many”;<br> If a question starts with “how many”, or includes “number of” or “count of”, then it belongs in the\n",
    "Aggregation category\n",
    "\n",
    "• comparative constraint, e.g., “larger than”."
   ]
  },
  {
   "cell_type": "code",
   "execution_count": 1,
   "id": "artistic-transformation",
   "metadata": {},
   "outputs": [
    {
     "name": "stderr",
     "output_type": "stream",
     "text": [
      "[nltk_data] Downloading package wordnet to\n",
      "[nltk_data]     C:\\Users\\gabriele.ferrario\\AppData\\Roaming\\nltk_data..\n",
      "[nltk_data]     .\n",
      "[nltk_data]   Package wordnet is already up-to-date!\n"
     ]
    }
   ],
   "source": [
    "import nltk\n",
    "import re\n",
    "nltk.download('wordnet')\n",
    "from nltk.corpus import wordnet "
   ]
  },
  {
   "cell_type": "code",
   "execution_count": 2,
   "id": "steady-attachment",
   "metadata": {},
   "outputs": [],
   "source": [
    "def check_comparative_constraint(tags):\n",
    "    count=0\n",
    "    for elem in tags:\n",
    "        if elem == \"JJR\" and tags[count+1]==\"IN\":\n",
    "            return True\n",
    "        count += 1\n",
    "    return False"
   ]
  },
  {
   "cell_type": "code",
   "execution_count": 3,
   "id": "conscious-franklin",
   "metadata": {},
   "outputs": [],
   "source": [
    "def convert_ordinal_number(list_ordinal_num):\n",
    "    list_ordinal_syns=[]\n",
    "    for elem in list_ordinal_num:\n",
    "        list_ordinal_syns.append(wordnet.synsets(elem)[0].lemma_names())\n",
    "    return list_ordinal_syns"
   ]
  },
  {
   "cell_type": "code",
   "execution_count": 4,
   "id": "apparent-google",
   "metadata": {},
   "outputs": [],
   "source": [
    "def compute_ordinal_number(n=10):\n",
    "    ordinal = lambda num: \"%d%s\" % (num,\"tsnrhtdd\"[(num//10%10!=1)*(num%10<4)*num%10::4])\n",
    "    list_ordinal_number=[ordinal(i) for i in range(1,n)]\n",
    "    return convert_ordinal_number(list_ordinal_number)"
   ]
  },
  {
   "cell_type": "code",
   "execution_count": 5,
   "id": "opening-rover",
   "metadata": {},
   "outputs": [],
   "source": [
    "def is_ordinal_number(word):\n",
    "    ordinal_numbers = compute_ordinal_number()\n",
    "    for elem in ordinal_numbers:\n",
    "        if word in elem:\n",
    "            return (True,elem)\n",
    "    return (False,[])"
   ]
  },
  {
   "cell_type": "code",
   "execution_count": 6,
   "id": "careful-corporation",
   "metadata": {},
   "outputs": [],
   "source": [
    "def contain_ordinal_number(tokens):\n",
    "    for token in tokens:\n",
    "        check, number = is_ordinal_number(token)\n",
    "        if check:\n",
    "            return number[1][:-2]\n",
    "    return []"
   ]
  },
  {
   "cell_type": "code",
   "execution_count": 7,
   "id": "reduced-addition",
   "metadata": {},
   "outputs": [],
   "source": [
    "def constraint(question):\n",
    "    category=[]\n",
    "    \n",
    "    question= re.sub(' +', ' ', question)\n",
    "    if \"how many\" in question or \"number of\" in question or \"count of\" in question:\n",
    "        category.append(\"aggregation\") # count\n",
    "    \n",
    "    tokens = nltk.word_tokenize(question)\n",
    "    tags = [ elem[1] for elem in nltk.pos_tag(tokens)]\n",
    "    print(tags)\n",
    "    if \"VB\" in tags[0]:\n",
    "        category.append(\"answer-type\") # ask\n",
    "    \n",
    "    ordinal_number = contain_ordinal_number(tokens)\n",
    "    if len(ordinal_number)>0:  \n",
    "        category.append(\"ordinal\") # limit\n",
    "    return category, ordinal_number"
   ]
  },
  {
   "cell_type": "code",
   "execution_count": 8,
   "id": "nominated-journey",
   "metadata": {},
   "outputs": [
    {
     "name": "stdout",
     "output_type": "stream",
     "text": [
      "['WDT', 'NN', 'IN', 'NN', 'VBZ', 'JJR', 'IN', 'NN', '.']\n"
     ]
    },
    {
     "data": {
      "text/plain": [
       "([], [])"
      ]
     },
     "execution_count": 8,
     "metadata": {},
     "output_type": "execute_result"
    }
   ],
   "source": [
    "constraint(\"which actor in italy is shorter than pippo?\")"
   ]
  },
  {
   "cell_type": "code",
   "execution_count": 26,
   "id": "better-taxation",
   "metadata": {},
   "outputs": [
    {
     "name": "stdout",
     "output_type": "stream",
     "text": [
      "['WP', 'VBZ', 'DT', 'JJ', 'NN', 'IN', 'NNP', '.']\n",
      "['ordinal']\n",
      "1\n"
     ]
    }
   ],
   "source": [
    "constraints, ordinal = constraint(\"who is the first son of Mussolini?\")\n",
    "if \"ordinal\" and  type(ordinal) == str:\n",
    "    print(constraints)\n",
    "    print(ordinal)"
   ]
  },
  {
   "cell_type": "code",
   "execution_count": 25,
   "id": "a24e4906",
   "metadata": {},
   "outputs": [
    {
     "name": "stdout",
     "output_type": "stream",
     "text": [
      "<class 'str'>\n"
     ]
    }
   ],
   "source": [
    "print(type(ordinal))"
   ]
  },
  {
   "cell_type": "code",
   "execution_count": 28,
   "id": "cutting-healthcare",
   "metadata": {},
   "outputs": [
    {
     "name": "stdout",
     "output_type": "stream",
     "text": [
      "['WRB', 'JJ', 'NNS', 'VBZ', 'VBN', '.']\n",
      "['aggregation']\n",
      "[]\n"
     ]
    }
   ],
   "source": [
    "constraints, ordinal = constraint(\"    how        many       children   has Mussolini?\")\n",
    "if type(ordinal) != str:\n",
    "    print(constraints)\n",
    "    print(ordinal)"
   ]
  },
  {
   "cell_type": "code",
   "execution_count": 18,
   "id": "horizontal-employer",
   "metadata": {},
   "outputs": [
    {
     "name": "stdout",
     "output_type": "stream",
     "text": [
      "['VBZ', 'JJ', 'JJ', 'NN', 'IN', 'NN', 'NN', '.']\n",
      "ok\n"
     ]
    }
   ],
   "source": [
    "constraints, ordinal = constraint(\"is michelle obama wife of barack obama?\")\n",
    "if \"answer-tpe\" in constraints:\n",
    "    print(\"constraint: \",constraints)\n",
    "else:\n",
    "    print(\"ok\")"
   ]
  },
  {
   "cell_type": "code",
   "execution_count": 12,
   "id": "blond-director",
   "metadata": {},
   "outputs": [
    {
     "data": {
      "text/plain": [
       "[['first', '1st'],\n",
       " ['second', '2nd', '2d'],\n",
       " ['third', '3rd', 'tertiary'],\n",
       " ['fourth', '4th', 'quaternary'],\n",
       " ['fifth', '5th'],\n",
       " ['sixth', '6th'],\n",
       " ['seventh', '7th'],\n",
       " ['eighth', '8th'],\n",
       " ['ninth', '9th'],\n",
       " ['tenth', '10th'],\n",
       " ['eleventh', '11th'],\n",
       " ['twelfth', '12th'],\n",
       " ['thirteenth', '13th'],\n",
       " ['fourteenth', '14th'],\n",
       " ['fifteenth', '15th'],\n",
       " ['sixteenth', '16th'],\n",
       " ['seventeenth', '17th'],\n",
       " ['eighteenth', '18th'],\n",
       " ['nineteenth', '19th'],\n",
       " ['twentieth', '20th'],\n",
       " ['twenty-first', '21st'],\n",
       " ['twenty-second', '22nd']]"
      ]
     },
     "execution_count": 12,
     "metadata": {},
     "output_type": "execute_result"
    }
   ],
   "source": [
    "compute_ordinal_number(23)"
   ]
  }
 ],
 "metadata": {
  "kernelspec": {
   "display_name": "Python 3",
   "language": "python",
   "name": "python3"
  },
  "language_info": {
   "codemirror_mode": {
    "name": "ipython",
    "version": 3
   },
   "file_extension": ".py",
   "mimetype": "text/x-python",
   "name": "python",
   "nbconvert_exporter": "python",
   "pygments_lexer": "ipython3",
   "version": "3.7.0"
  }
 },
 "nbformat": 4,
 "nbformat_minor": 5
}
