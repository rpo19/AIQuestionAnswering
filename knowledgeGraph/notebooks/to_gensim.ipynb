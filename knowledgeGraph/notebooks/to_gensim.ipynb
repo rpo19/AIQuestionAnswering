{
 "cells": [
  {
   "cell_type": "code",
   "execution_count": 22,
   "id": "crude-pierre",
   "metadata": {},
   "outputs": [],
   "source": [
    "import gensim\n",
    "from gensim.scripts.glove2word2vec import glove2word2vec"
   ]
  },
  {
   "cell_type": "code",
   "execution_count": 23,
   "id": "forbidden-sustainability",
   "metadata": {},
   "outputs": [],
   "source": [
    "_ = glove2word2vec('../../data/glove.840B.300d.txt', '../../data/glove.840B.300d-temp.txt')"
   ]
  },
  {
   "cell_type": "code",
   "execution_count": 24,
   "id": "proved-jerusalem",
   "metadata": {},
   "outputs": [],
   "source": [
    "word_vectors = gensim.models.KeyedVectors.load_word2vec_format('../../data/glove.840B.300d-temp.txt', binary=False)"
   ]
  },
  {
   "cell_type": "code",
   "execution_count": 25,
   "id": "civilian-cleveland",
   "metadata": {},
   "outputs": [],
   "source": [
    "word_vectors.save('../../data/glove.840B.300d.gensim')"
   ]
  },
  {
   "cell_type": "code",
   "execution_count": 26,
   "id": "documentary-manufacturer",
   "metadata": {},
   "outputs": [],
   "source": [
    "from flair.embeddings import WordEmbeddings, FlairEmbeddings, StackedEmbeddings"
   ]
  },
  {
   "cell_type": "code",
   "execution_count": 27,
   "id": "latin-juice",
   "metadata": {},
   "outputs": [],
   "source": [
    "glove_embedding = WordEmbeddings('../../data/glove.840B.300d.gensim')"
   ]
  },
  {
   "cell_type": "code",
   "execution_count": null,
   "id": "declared-enclosure",
   "metadata": {},
   "outputs": [],
   "source": [
    "print('OK')"
   ]
  }
 ],
 "metadata": {
  "kernelspec": {
   "display_name": "Python 3",
   "language": "python",
   "name": "python3"
  },
  "language_info": {
   "codemirror_mode": {
    "name": "ipython",
    "version": 3
   },
   "file_extension": ".py",
   "mimetype": "text/x-python",
   "name": "python",
   "nbconvert_exporter": "python",
   "pygments_lexer": "ipython3",
   "version": "3.8.3"
  }
 },
 "nbformat": 4,
 "nbformat_minor": 5
}
