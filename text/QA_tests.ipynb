{
 "cells": [
  {
   "cell_type": "code",
   "execution_count": 21,
   "id": "analyzed-behavior",
   "metadata": {},
   "outputs": [],
   "source": [
    "from transformers import pipeline\n",
    "import wikipediaapi\n",
    "import pandas as pd\n",
    "import sparql\n",
    "import spacy_dbpedia_spotlight\n",
    "import spacy\n"
   ]
  },
  {
   "cell_type": "markdown",
   "id": "occupational-lawyer",
   "metadata": {},
   "source": [
    "# Load model"
   ]
  },
  {
   "cell_type": "code",
   "execution_count": 2,
   "id": "upper-samba",
   "metadata": {},
   "outputs": [],
   "source": [
    "\n",
    "# Generating an answer to the question in context\n",
    "# the model is pretrained on SQuAD by default, but you can either specify it\n",
    "qa = pipeline(\"question-answering\")\n"
   ]
  },
  {
   "cell_type": "markdown",
   "id": "fuzzy-settle",
   "metadata": {},
   "source": [
    "# Model test"
   ]
  },
  {
   "cell_type": "code",
   "execution_count": 3,
   "id": "intermediate-relevance",
   "metadata": {},
   "outputs": [],
   "source": [
    "# Open and read the article\n",
    "question = \"What is the capital of the Netherlands?\"\n",
    "context = r\"The four largest cities in the Netherlands are Amsterdam, Rotterdam, The Hague and Utrecht.[17] Amsterdam is the country's most populous city and nominal capital,[18] while The Hague holds the seat of the States General, Cabinet and Supreme Court.[19] The Port of Rotterdam is the busiest seaport in Europe, and the busiest in any country outside East Asia and Southeast Asia, behind only China and Singapore.\""
   ]
  },
  {
   "cell_type": "code",
   "execution_count": 4,
   "id": "passing-husband",
   "metadata": {},
   "outputs": [],
   "source": [
    "# search the answer\n",
    "answer = qa(question=question, context=context)"
   ]
  },
  {
   "cell_type": "code",
   "execution_count": 5,
   "id": "unexpected-liverpool",
   "metadata": {},
   "outputs": [
    {
     "name": "stdout",
     "output_type": "stream",
     "text": [
      "Context: The four largest cities in the Netherlands are Amsterdam, Rotterdam, The Hague and Utrecht.[17] Amsterdam is the country's most populous city and nominal capital,[18] while The Hague holds the seat of the States General, Cabinet and Supreme Court.[19] The Port of Rotterdam is the busiest seaport in Europe, and the busiest in any country outside East Asia and Southeast Asia, behind only China and Singapore.\n",
      "Question: What is the capital of the Netherlands?\n",
      "Answer: 'Amsterdam' with score 0.3774993121623993\n"
     ]
    }
   ],
   "source": [
    "# Print the answer\n",
    "print(f\"Context: {context}\")\n",
    "print(f\"Question: {question}\")\n",
    "print(f\"Answer: '{answer['answer']}' with score {answer['score']}\")"
   ]
  },
  {
   "cell_type": "markdown",
   "id": "employed-orientation",
   "metadata": {},
   "source": [
    "# Wikipedia test"
   ]
  },
  {
   "cell_type": "code",
   "execution_count": 6,
   "id": "spoken-child",
   "metadata": {},
   "outputs": [],
   "source": [
    "wiki = wikipediaapi.Wikipedia(\n",
    "        language='en',\n",
    "        extract_format=wikipediaapi.ExtractFormat.WIKI\n",
    ")\n",
    "\n",
    "p = wiki.page(\"John Kotelawala\")\n"
   ]
  },
  {
   "cell_type": "code",
   "execution_count": 7,
   "id": "differential-registrar",
   "metadata": {},
   "outputs": [
    {
     "name": "stdout",
     "output_type": "stream",
     "text": [
      "General Sir John Lionel Kotelawala  (Sinhala: ශ්‍රිමත් ජෝන් ලයනල් කොතලාවල; 4 April 1895 – 2 October 1980) was a Sri Lankan statesman, most notable as the 3rd Prime Minister of Ceylon (Sri Lanka) from 1953 to 1956.\n",
      "Born to a wealthy landholding and mining family, Kotelawala had a difficult childhood with the suicide of his father and financial difficulties that followed. He was educated at Royal College, Colombo and Christ's College, Cambridge before returning to become a planter and run the family estates and mines. Being from a politically active family, he entered active politics at the age of 35 years having been elected to the State Council of Ceylon. He later served as Minister of Communications and Works in the Second Board of Ministers of Ceylon. With Ceylon gaining independence in 1945, he was elected to Parliament and became a member of the first Cabinet as Minister of Transport and Works. Overlooked for the post of Prime Minister when the first Prime Minister of Ceylon, D. S. Senanayake died suddenly. A year later he succeeded Dudley Senanayake as the third Prime Minister of Ceylon serving until his party lost the general election in 1956. Kotelawala retired from politics thereafter. He joined the Ceylon Light Infantry as a reservist reaching the rank of Colonel; he was granted the rank of General on his deathbed.\n",
      "\n",
      "Early life and education\n",
      "Kotelawala was born on 4 April 1895 to John Kotelawala Snr, a police inspector, who later turned businessman and Alice Elisabeth Kotalawala (née Attygalle), daughter of Mudaliyar Don Charles Gemoris Attygalle, a wealthy land and mine owner. He had a younger brother Justin Kotalawela and a sister Freda, who later married C. V. S. Corea.\n",
      "\n",
      "The Kotelawalas lived in considerable comfort owing to the considerable land and mine holdings of his grandfather Mudaliyar Attygalle, which his father managed following the death of his grandfather. After he was forced out of the management of the Attygalle estates by the family, Kotelawala Snr started his own business ventures including the Ceylon-Japan Trading Company. In 1907, he was arrested and found guilty of conspiring to murder his brother-in-law, Francis Attygalle. While the murder trail was underway, Kotelawala Snr committed suicide by poisioning himself.Kotelawala was eleven years old when his father died and with this the family fortunes declined, after much funds were spent in the legal defense of his father. Alice Kotelawala who had converted to Christianity, slowly built up the family wealth through careful management of their remaining land holdings and the share of the Kahatagaha graphite mine, which she received from her younger sister Ellen and brother-in-law, Fredrick Richard Senanayake. She was reputed for her social work and was later awarded a MBE in the 1939 Birthday Honours and a CBE in the 1951 Birthday Honours.Young Kotelawala attended Royal College, Colombo, representing the school in cricket, tennis, boxing and football. He played in the Royal–Thomian. He had to leave owing to involvements in the riots in 1915, embarking on a tour of Europe, with World War I raging. He remained in Europe for five years, spending most of that time in England and France, attended Christ's College, Cambridge to study agriculture. Kotelawala was known as an aggressive and outspoken man who loved sports, horseback riding and cricket and, particularly as a young man, got into physical fights when he was insulted. He was fluent in Sinhala, English and French. After returning to Ceylon, he became a planter, running his family plantation estates and mines, which included the Kahatagaha Graphite Mine in Dodangaslanda. He served as a Justice of the Peace.\n",
      "\n",
      "Military service\n",
      "In a time when serving in the volunteer forces was prestigious and a gentlemanly pursuit, Kotelawala gained a commission as a second lieutenant in the Ceylon Light Infantry on 15 September 1922. That year the regiment received colours from the Prince of Wales. He progressed with promotions to lieutenant on 27 October 1924, captain on 23 August 1929 and major on 1 October 1933. On 1 July 1939 he was appointed second in command of the Ceylon Light Infantry and served till 1 September 1940. He was promoted to the rank of Lieutenant Colonel on 1 October 1940 and was posted to the reserve of the Ceylon Defense Force.With the outbreak of World War II in the Far East, the Ceylon Defence Force including the Ceylon Light Infantry was mobilized with the for service with the British Army. Kotelawala as the Minister of Communications and Works, became a member of the Ceylon's War Council and served as the Commander-in-Chief of the Essential Services Labor Corp. He provided his home, Kandawala to function as the officers mess for the wartime RAF station at Rathmalana. He was promoted to Colonel on 2 July 1942, the highest rank that a Ceylonese could achieve at the time and retired in 1945.\n",
      "\n",
      "Early political career\n",
      "As early as 1915 Kotelawala had become involved with political leaders such as Don Stephen Senanayake and his brother F.R. Senanayake, who was married to Kotelawala's mother's sister. They criticized many of the actions of the British colonial officials following the riots in 1915.\n",
      "\n",
      "State Council\n",
      "Captain John Kotelawala contested the Kurunegala seat in the 1931 election for the State Council of Ceylon. He gained 17159 votes, a majority of 9045 over his opponent from the Ceylon National Congress. Elected to the State Council, he served as a backbencher in its first term. He was reelected unopposed in the 1936 state council election from Kurunegala and was elected as Minister of Communications and Works, the chair Communications and Works Committee in the Second Board of Ministers of Ceylon. As the Minister, he oversaw the initiation of several major public works projects in the island.\n",
      "\n",
      "In Cabinet\n",
      "When Ceylon received independence and dominion status in 1948, Colonel Kotelawala contested the 1947 general elections from the United National Party (UNP) founded by D. S. Senanayake from the Dodangaslanda electorate and was elected to the newly formed House of Representatives, which was the elected lower house of parliament established under to Soulbury Constitution. Kotelawala was an important member the UNP and was appointed by Senanayake as Minister of Transport and Works, retaining the portfolio of public works which he had held in the second board of ministers.During his tenure major projects such as the Laxapana power project, expansion of the Colombo harbor, expansion of the Ratmalana Airport, construction of the University of Peradeniya and the expansion of road in the island took place. With S. W. R. D. Bandaranaike leaving the UNP and crossing over to the opposition, Kotelawala was appointed Leader of the House in the House of Representatives on 12 July 1951.\n",
      "\n",
      "When Senanayake suddenly died on 22 March 1952, Kotelawala expected to succeed him as Prime Minister, given he was the leader of the house and the most senior member of the UNP. However, to much of his anger, Lord Soulbury, the Governor-General appointed Senanayake's son and Kotelawala's younger cousin, Dudley Senanayake as Prime Minister on 26 March 1952. An angry Kotelawala threatened resignation and a possible split in the party appeared. After mediation between Kotelawala and Senanayake by senior UNP members including Sir Oliver Goonetilleke, Kotelawala agreed to serve in Dudley Senanayake's cabinet retaining his existing portfolio. Soon after Senanayake called for fresh elections and in the 1952 general elections Kotelawala was re-elected and retained his ministry and the post of leader of the house as the UNP won a majority to form a government.The following year, the Senanayake government faced a major civil unrest with left-wing parties launching the 1953 Hartal in August. On 12 August 1953 civil disobedience, strikes and demonstrations started through out the island by trade unions against the proposed elimination of the subsidy on rice by the government. The country came to standstill with transport and communication stopping due to acts of sabotage. The government implemented emergency regulations and deployed the army to suppress the Hartal and restore order. Badly shaken by the events of the Hartal, Senanayake gravely ill resigned as Prime Minister on 12 October 1953. Kotelawala succeeded Senanayake as Prime Minister; Minister of Defense and External Affairs; and leader of the UNP.\n",
      "\n",
      "Prime minister\n",
      "Domestic policy\n",
      "His government partially retained the rice subsidy which led to the 1953 Hartal. An ardent anti-communist, he took a hardline stand against trade unions and left-wing parties. He formed the Ceylon Railway Engineer Corps and Post and Telegraph Signals to minimized the effects to transport and communication in the event of trade union action.\n",
      "He hosted in Ceylon Queen Elizabeth and the Prince Philip, Duke of Edinburgh during their Royal Commonwealth Tour in April 1954, using the occasion to request the appointment of a Ceylonese Governor-General when Lord Soulbury's tenor ended. This came to be when Sir Oliver Goonetilleke was appointed Governor-General in July 1954. Kotelawala himself was appointed to the Privy Council during the visit.\n",
      "\n",
      "Foreign policy\n",
      "As prime minister, Kotelawala led Sri Lanka into the United Nations and contributed to Sri Lanka's expanding foreign relations, particularly with other Asian countries. In 1955 he led his country's delegation to the Bandung conference in Indonesia where his performance earned him the epithet Bandung Booruwa (Bandung Donkey) in Sri Lanka, for his lack of knowledge of the presence of the US 7th Fleet in the South China Sea, and his inability to pronounce \"Formosan\". His uncontroversial first speech at the conference was written by journalists at the Lake House group,  However, he had been influenced by the British Government, as well as by his US-aligned permanent secretary Gunasena de Soyza to make anti-Communist remarks. He made these remarks at a press conference, but subsequently withdrew them. He confessed later in Parliament that he had only made these remarks because he was pressured by de Soyza. At the conference he stated his belief that fashionably Marxist anti-colonialist rhetoric ignored Communist atrocities. In a private conversation with the prime ministers of Pakistan, India, Burma, and China, he asked Chinese premier Zhou Enlai if he wanted to bring Communism to Tibet. Zhou replied that it was impractical and undesirable, and that the PRC had gone to Tibet because it was \"an integral part of the Chinese state\" and because it had been threatened by \"imperialist intrigues\" from the British and Russian empires.\n",
      "\n",
      "Electoral defeat\n",
      "His government had to deal with economic problems and ethnic conflicts. Although his parliamentary term was valid till 1957, he had Parliament dissolved in 1956 calling for fresh elections. However the UNP faced a major defeat in the 1956 general elections by a group of more radically chauvinistic Sinhalese parties under the leadership of Solomon Bandaranaike. The UNP was only able to win eight seats in parliament.\n",
      "\n",
      "Final years in Parliament\n",
      "Kotelawala retained his parliamentary seat having been reelected from the Dodangaslanda electorate, however he returned the party leadership to Dudley Senanayake. He did not contest the 1960 general elections, instead he supported the candidacy of A. U. Romanis, his personal chauffeur, as the UNP candidate for Dodangaslanda. Romanis won both general elections in 1960 and remained a member of parliament till 1964.\n",
      "\n",
      "Later life\n",
      "Kotelawala retired from politics shortly after his electoral defeat. He bought the Brogues Wood estate at Biddenden in Kent, where he lived for several years. He eventually returned to Ceylon. When the post of Governor-General appeared vacant with completion of William Gopallawa's first term, he was hopeful that he would be nominated to the post by the United National Party which was in the government at the time. However Dudley Senanayake in his second term as Prime Minister did not name a successor for Gopallawa and allowed him to have a second term.\n",
      "\n",
      "Defence university\n",
      "Kotelawala was a strong supporter of the military and maintained close links with the army. He was the first Chairman of the Ceylon Light Infantry Association in 1974 and was the President of the Ceylon Ex Servicemen's Association from 1948 to his death. In 1978, the commanders of the armed forces identified a need to establish a Defence university to cater to the academic training of its officers. Although the government approved it, funds were limited and no location was provided by the government. In 1979, Lieutenant General Denis Perera, Commander of the Sri Lankan Army approached Kotelawala with the proposal of donating his home Kandawala and its 50 acres estate to the state to establish a Defence university. Six months later in 1980, having reviewed the proposal and consulted his heirs, Kotelawala agreed to donate Kandawala following his death. Shortly after he signed a deed of gift with the President, transferring Kandawala and a formal ceremony to establish the institution was scheduled for 11 October 1980.\n",
      "\n",
      "Death\n",
      "On 29 September 1980 he suffered a stroke at Kandawala and was taken to the cardiac unit of the Colombo General Hospital. On 1 October, President J. R. Jayewardene visited Kotelawala and conferred on him the honorary rank of a General of the Volunteer Force of the Army in recognition for his long service to the country, which was acknowledged by Kotelawala who was on his deathbed. The honor was planned to be awarded on 11 October at the ceremony establishing the proposed Defense Academy.He died on 2 October 1980 at the Colombo General Hospital. On 5 October, Kotelawala's coffin which was kept at Kandawala was moved to Parliament House to lay in state, before final rites at Independence Square with full military honours.\n",
      "\n",
      "Personal life\n",
      "He married Effie Manthri Dias Bandaranaike daughter of F. H. Dias Bandaranaike and Maria Frances Dias Bandaranaike nee Senanayake. Effie Bandaranaike was the niece of Don Stephen Senanayake. Although the marriage was not successful, ending in divorce, it produced a daughter Lakshmi Kotelawala who married Henry Gerald Kotalawala.Kotelawala was known for his flamboyance and the company he kept. He would entertain guests at his home at Kandawala and his cottage in Nuware eliya. Even as Prime Minister he resided at Kotelawala.\n",
      "\n",
      "Legacy\n",
      "In 1985 a national defence academy for training of officers for all three Sri Lankan defence services was established at his estate Kandawala, which he had left to the country in his will for this purpose. It has been named General Sir John Kotelawala Defence University (KDU) is a defence university offering undergraduate and post graduate study courses to officers of the defence services in Sri Lanka in various disciplines. Statues of Sir John Kotelawala have been erected in many parts of the island, including one at the Old Parliament Building, Colombo. Many schools, libraries and public buildings have been named in his honor. In 1993, the Sir John Kotelawala Museum was opened at Kandawala by the President.\n",
      "\n",
      "Titles and honours\n",
      "His Orders, Decorations and Medals and other memorabilia are on display at the General Sir John Kotelawala Defence University.\n",
      "\n",
      "Appointments Member of the Privy Council (1954)Decorations and Medals Order of the Companions of Honour (1956)\n",
      " Knight of the Order of the British Empire (Civil Division) (1948)\n",
      " King George V Silver Jubilee Medal (1935)\n",
      " King George VI Coronation Medal (1937)\n",
      " Defence Medal (1946)\n",
      " War Medal 1939–1945 (1946)\n",
      " Efficiency Medal (Ceylon) (1949)\n",
      " Queen Elizabeth II Coronation Medal (1953)\n",
      " Ceylon Armed Services Long Service Medal (1956)\n",
      " Ceylon Armed Services Inauguration Medal (1968)\n",
      " Republic of Sri Lanka Armed Services Medal (1972)\n",
      " Sri Lanka Army 25th Anniversary Medal (1974)Foreign honours Grand Cross of the Légion d´honneur (1954)\n",
      " Grand Cross of the Order of Merit of the Italian Republic (1954)\n",
      " Grand Cross 1st Class of the Order of Merit of the Federal Republic of Germany (1955)\n",
      " Grand Cross of the Order of the White Elephant (1956)\n",
      " Grand Cross of the Order of the Netherlands Lion\n",
      " Order of the Rising Sun, 1st Class (1954)\n",
      " Knights of Justice of the Order of the Hospital of Saint John of Jerusalem (1965)\n",
      "Educational LLD (honorary) – University of Ceylon\n",
      " LLD (posthumously) – General Sir John Kotelawala Defence UniversityHonorary military appointments General of the Volunteer Force of the Army (1980)\n",
      " Colonel of the Ceylon Defense Force (1942)\n",
      "\n",
      "See also\n",
      "Kotelawala cabinet\n",
      "List of political families in Sri Lanka\n",
      "General Sir John Kotelawala Defence University\n",
      "Ceylon Light Infantry\n",
      "\n",
      "Notes\n",
      "References\n",
      "External links\n",
      " Media related to John Kotelawala at Wikimedia Commons\n",
      "The Kotelawala Ancestry\n",
      "Attygalle Family Tree\n",
      "Website of the Parliament of Sri Lanka\n",
      "Official Website of General Sir John Kotelawala Defence University\n",
      "Official Website of United National Party\n",
      "PLAYING THE GAME WITH - SIR JOHN\n",
      "Sir John Kotelawala's early years\n",
      "Amara Samara in Sinhala\n",
      "Sir John Kotelawala in Sinhala\n",
      "Sir John Kotelawala in Sinhala\n",
      "Sir John Kotelawala in Sinhala\n",
      "Sir John Kotelawala's work\n",
      "General The Rt.Hon. Sir John Lionel Kotelawala PC CH KBE KStJ LLD\n"
     ]
    }
   ],
   "source": [
    "# get text\n",
    "text = p.text\n",
    "print(text)"
   ]
  },
  {
   "cell_type": "code",
   "execution_count": 8,
   "id": "rotary-chest",
   "metadata": {},
   "outputs": [
    {
     "name": "stdout",
     "output_type": "stream",
     "text": [
      "*: Early life and education - \n",
      "Kotelawala was born on 4 April 1895 to John Kotelawala Snr, a police inspector, who later turned businessman and Alice Elisabeth Kotalawala (née Attygalle), daughter of Mudaliyar Don Charles Gemoris Attygalle, a wealthy land and mine owner. He had a younger brother Justin Kotalawela and a sister Freda, who later married C. V. S. Corea.\n",
      "\n",
      "The Kotelawalas lived in considerable comfort owing to the considerable land and mine holdings of his grandfather Mudaliyar Attygalle, which his father managed following the death of his grandfather. After he was forced out of the management of the Attygalle estates by the family, Kotelawala Snr started his own business ventures including the Ceylon-Japan Trading Company. In 1907, he was arrested and found guilty of conspiring to murder his brother-in-law, Francis Attygalle. While the murder trail was underway, Kotelawala Snr committed suicide by poisioning himself.Kotelawala was eleven years old when his father died and with this the family fortunes declined, after much funds were spent in the legal defense of his father. Alice Kotelawala who had converted to Christianity, slowly built up the family wealth through careful management of their remaining land holdings and the share of the Kahatagaha graphite mine, which she received from her younger sister Ellen and brother-in-law, Fredrick Richard Senanayake. She was reputed for her social work and was later awarded a MBE in the 1939 Birthday Honours and a CBE in the 1951 Birthday Honours.Young Kotelawala attended Royal College, Colombo, representing the school in cricket, tennis, boxing and football. He played in the Royal–Thomian. He had to leave owing to involvements in the riots in 1915, embarking on a tour of Europe, with World War I raging. He remained in Europe for five years, spending most of that time in England and France, attended Christ's College, Cambridge to study agriculture. Kotelawala was known as an aggressive and outspoken man who loved sports, horseback riding and cricket and, particularly as a young man, got into physical fights when he was insulted. He was fluent in Sinhala, English and French. After returning to Ceylon, he became a planter, running his family plantation estates and mines, which included the Kahatagaha Graphite Mine in Dodangaslanda. He served as a Justice of the Peace.\n",
      "*: Military service - \n",
      "In a time when serving in the volunteer forces was prestigious and a gentlemanly pursuit, Kotelawala gained a commission as a second lieutenant in the Ceylon Light Infantry on 15 September 1922. That year the regiment received colours from the Prince of Wales. He progressed with promotions to lieutenant on 27 October 1924, captain on 23 August 1929 and major on 1 October 1933. On 1 July 1939 he was appointed second in command of the Ceylon Light Infantry and served till 1 September 1940. He was promoted to the rank of Lieutenant Colonel on 1 October 1940 and was posted to the reserve of the Ceylon Defense Force.With the outbreak of World War II in the Far East, the Ceylon Defence Force including the Ceylon Light Infantry was mobilized with the for service with the British Army. Kotelawala as the Minister of Communications and Works, became a member of the Ceylon's War Council and served as the Commander-in-Chief of the Essential Services Labor Corp. He provided his home, Kandawala to function as the officers mess for the wartime RAF station at Rathmalana. He was promoted to Colonel on 2 July 1942, the highest rank that a Ceylonese could achieve at the time and retired in 1945.\n",
      "*: Early political career - \n",
      "As early as 1915 Kotelawala had become involved with political leaders such as Don Stephen Senanayake and his brother F.R. Senanayake, who was married to Kotelawala's mother's sister. They criticized many of the actions of the British colonial officials following the riots in 1915.\n",
      "*: State Council - \n",
      "Captain John Kotelawala contested the Kurunegala seat in the 1931 election for the State Council of Ceylon. He gained 17159 votes, a majority of 9045 over his opponent from the Ceylon National Congress. Elected to the State Council, he served as a backbencher in its first term. He was reelected unopposed in the 1936 state council election from Kurunegala and was elected as Minister of Communications and Works, the chair Communications and Works Committee in the Second Board of Ministers of Ceylon. As the Minister, he oversaw the initiation of several major public works projects in the island.\n",
      "*: In Cabinet - \n",
      "When Ceylon received independence and dominion status in 1948, Colonel Kotelawala contested the 1947 general elections from the United National Party (UNP) founded by D. S. Senanayake from the Dodangaslanda electorate and was elected to the newly formed House of Representatives, which was the elected lower house of parliament established under to Soulbury Constitution. Kotelawala was an important member the UNP and was appointed by Senanayake as Minister of Transport and Works, retaining the portfolio of public works which he had held in the second board of ministers.During his tenure major projects such as the Laxapana power project, expansion of the Colombo harbor, expansion of the Ratmalana Airport, construction of the University of Peradeniya and the expansion of road in the island took place. With S. W. R. D. Bandaranaike leaving the UNP and crossing over to the opposition, Kotelawala was appointed Leader of the House in the House of Representatives on 12 July 1951.\n",
      "\n",
      "When Senanayake suddenly died on 22 March 1952, Kotelawala expected to succeed him as Prime Minister, given he was the leader of the house and the most senior member of the UNP. However, to much of his anger, Lord Soulbury, the Governor-General appointed Senanayake's son and Kotelawala's younger cousin, Dudley Senanayake as Prime Minister on 26 March 1952. An angry Kotelawala threatened resignation and a possible split in the party appeared. After mediation between Kotelawala and Senanayake by senior UNP members including Sir Oliver Goonetilleke, Kotelawala agreed to serve in Dudley Senanayake's cabinet retaining his existing portfolio. Soon after Senanayake called for fresh elections and in the 1952 general elections Kotelawala was re-elected and retained his ministry and the post of leader of the house as the UNP won a majority to form a government.The following year, the Senanayake government faced a major civil unrest with left-wing parties launching the 1953 Hartal in August. On 12 August 1953 civil disobedience, strikes and demonstrations started through out the island by trade unions against the proposed elimination of the subsidy on rice by the government. The country came to standstill with transport and communication stopping due to acts of sabotage. The government implemented emergency regulations and deployed the army to suppress the Hartal and restore order. Badly shaken by the events of the Hartal, Senanayake gravely ill resigned as Prime Minister on 12 October 1953. Kotelawala succeeded Senanayake as Prime Minister; Minister of Defense and External Affairs; and leader of the UNP.\n",
      "*: Prime minister - \n",
      "\n",
      "**: Domestic policy - \n",
      "His government partially retained the rice subsidy which led to the 1953 Hartal. An ardent anti-communist, he took a hardline stand against trade unions and left-wing parties. He formed the Ceylon Railway Engineer Corps and Post and Telegraph Signals to minimized the effects to transport and communication in the event of trade union action.\n",
      "He hosted in Ceylon Queen Elizabeth and the Prince Philip, Duke of Edinburgh during their Royal Commonwealth Tour in April 1954, using the occasion to request the appointment of a Ceylonese Governor-General when Lord Soulbury's tenor ended. This came to be when Sir Oliver Goonetilleke was appointed Governor-General in July 1954. Kotelawala himself was appointed to the Privy Council during the visit.\n",
      "**: Foreign policy - \n",
      "As prime minister, Kotelawala led Sri Lanka into the United Nations and contributed to Sri Lanka's expanding foreign relations, particularly with other Asian countries. In 1955 he led his country's delegation to the Bandung conference in Indonesia where his performance earned him the epithet Bandung Booruwa (Bandung Donkey) in Sri Lanka, for his lack of knowledge of the presence of the US 7th Fleet in the South China Sea, and his inability to pronounce \"Formosan\". His uncontroversial first speech at the conference was written by journalists at the Lake House group,  However, he had been influenced by the British Government, as well as by his US-aligned permanent secretary Gunasena de Soyza to make anti-Communist remarks. He made these remarks at a press conference, but subsequently withdrew them. He confessed later in Parliament that he had only made these remarks because he was pressured by de Soyza. At the conference he stated his belief that fashionably Marxist anti-colonialist rhetoric ignored Communist atrocities. In a private conversation with the prime ministers of Pakistan, India, Burma, and China, he asked Chinese premier Zhou Enlai if he wanted to bring Communism to Tibet. Zhou replied that it was impractical and undesirable, and that the PRC had gone to Tibet because it was \"an integral part of the Chinese state\" and because it had been threatened by \"imperialist intrigues\" from the British and Russian empires.\n",
      "**: Electoral defeat - \n",
      "His government had to deal with economic problems and ethnic conflicts. Although his parliamentary term was valid till 1957, he had Parliament dissolved in 1956 calling for fresh elections. However the UNP faced a major defeat in the 1956 general elections by a group of more radically chauvinistic Sinhalese parties under the leadership of Solomon Bandaranaike. The UNP was only able to win eight seats in parliament.\n",
      "*: Final years in Parliament - \n",
      "Kotelawala retained his parliamentary seat having been reelected from the Dodangaslanda electorate, however he returned the party leadership to Dudley Senanayake. He did not contest the 1960 general elections, instead he supported the candidacy of A. U. Romanis, his personal chauffeur, as the UNP candidate for Dodangaslanda. Romanis won both general elections in 1960 and remained a member of parliament till 1964.\n",
      "*: Later life - \n",
      "Kotelawala retired from politics shortly after his electoral defeat. He bought the Brogues Wood estate at Biddenden in Kent, where he lived for several years. He eventually returned to Ceylon. When the post of Governor-General appeared vacant with completion of William Gopallawa's first term, he was hopeful that he would be nominated to the post by the United National Party which was in the government at the time. However Dudley Senanayake in his second term as Prime Minister did not name a successor for Gopallawa and allowed him to have a second term.\n",
      "**: Defence university - \n",
      "Kotelawala was a strong supporter of the military and maintained close links with the army. He was the first Chairman of the Ceylon Light Infantry Association in 1974 and was the President of the Ceylon Ex Servicemen's Association from 1948 to his death. In 1978, the commanders of the armed forces identified a need to establish a Defence university to cater to the academic training of its officers. Although the government approved it, funds were limited and no location was provided by the government. In 1979, Lieutenant General Denis Perera, Commander of the Sri Lankan Army approached Kotelawala with the proposal of donating his home Kandawala and its 50 acres estate to the state to establish a Defence university. Six months later in 1980, having reviewed the proposal and consulted his heirs, Kotelawala agreed to donate Kandawala following his death. Shortly after he signed a deed of gift with the President, transferring Kandawala and a formal ceremony to establish the institution was scheduled for 11 October 1980.\n",
      "*: Death - \n",
      "On 29 September 1980 he suffered a stroke at Kandawala and was taken to the cardiac unit of the Colombo General Hospital. On 1 October, President J. R. Jayewardene visited Kotelawala and conferred on him the honorary rank of a General of the Volunteer Force of the Army in recognition for his long service to the country, which was acknowledged by Kotelawala who was on his deathbed. The honor was planned to be awarded on 11 October at the ceremony establishing the proposed Defense Academy.He died on 2 October 1980 at the Colombo General Hospital. On 5 October, Kotelawala's coffin which was kept at Kandawala was moved to Parliament House to lay in state, before final rites at Independence Square with full military honours.\n",
      "*: Personal life - \n",
      "He married Effie Manthri Dias Bandaranaike daughter of F. H. Dias Bandaranaike and Maria Frances Dias Bandaranaike nee Senanayake. Effie Bandaranaike was the niece of Don Stephen Senanayake. Although the marriage was not successful, ending in divorce, it produced a daughter Lakshmi Kotelawala who married Henry Gerald Kotalawala.Kotelawala was known for his flamboyance and the company he kept. He would entertain guests at his home at Kandawala and his cottage in Nuware eliya. Even as Prime Minister he resided at Kotelawala.\n",
      "*: Legacy - \n",
      "In 1985 a national defence academy for training of officers for all three Sri Lankan defence services was established at his estate Kandawala, which he had left to the country in his will for this purpose. It has been named General Sir John Kotelawala Defence University (KDU) is a defence university offering undergraduate and post graduate study courses to officers of the defence services in Sri Lanka in various disciplines. Statues of Sir John Kotelawala have been erected in many parts of the island, including one at the Old Parliament Building, Colombo. Many schools, libraries and public buildings have been named in his honor. In 1993, the Sir John Kotelawala Museum was opened at Kandawala by the President.\n",
      "*: Titles and honours - \n",
      "His Orders, Decorations and Medals and other memorabilia are on display at the General Sir John Kotelawala Defence University.\n",
      "\n",
      "Appointments Member of the Privy Council (1954)Decorations and Medals Order of the Companions of Honour (1956)\n",
      " Knight of the Order of the British Empire (Civil Division) (1948)\n",
      " King George V Silver Jubilee Medal (1935)\n",
      " King George VI Coronation Medal (1937)\n",
      " Defence Medal (1946)\n",
      " War Medal 1939–1945 (1946)\n",
      " Efficiency Medal (Ceylon) (1949)\n",
      " Queen Elizabeth II Coronation Medal (1953)\n",
      " Ceylon Armed Services Long Service Medal (1956)\n",
      " Ceylon Armed Services Inauguration Medal (1968)\n",
      " Republic of Sri Lanka Armed Services Medal (1972)\n",
      " Sri Lanka Army 25th Anniversary Medal (1974)Foreign honours Grand Cross of the Légion d´honneur (1954)\n",
      " Grand Cross of the Order of Merit of the Italian Republic (1954)\n",
      " Grand Cross 1st Class of the Order of Merit of the Federal Republic of Germany (1955)\n",
      " Grand Cross of the Order of the White Elephant (1956)\n",
      " Grand Cross of the Order of the Netherlands Lion\n",
      " Order of the Rising Sun, 1st Class (1954)\n",
      " Knights of Justice of the Order of the Hospital of Saint John of Jerusalem (1965)\n",
      "Educational LLD (honorary) – University of Ceylon\n",
      " LLD (posthumously) – General Sir John Kotelawala Defence UniversityHonorary military appointments General of the Volunteer Force of the Army (1980)\n",
      " Colonel of the Ceylon Defense Force (1942)\n",
      "*: See also - \n",
      "Kotelawala cabinet\n",
      "List of political families in Sri Lanka\n",
      "General Sir John Kotelawala Defence University\n",
      "Ceylon Light Infantry\n",
      "*: Notes - \n",
      "\n",
      "*: References - \n",
      "\n",
      "*: External links - \n",
      " Media related to John Kotelawala at Wikimedia Commons\n",
      "The Kotelawala Ancestry\n",
      "Attygalle Family Tree\n",
      "Website of the Parliament of Sri Lanka\n",
      "Official Website of General Sir John Kotelawala Defence University\n",
      "Official Website of United National Party\n",
      "PLAYING THE GAME WITH - SIR JOHN\n",
      "Sir John Kotelawala's early years\n",
      "Amara Samara in Sinhala\n",
      "Sir John Kotelawala in Sinhala\n",
      "Sir John Kotelawala in Sinhala\n",
      "Sir John Kotelawala in Sinhala\n",
      "Sir John Kotelawala's work\n",
      "General The Rt.Hon. Sir John Lionel Kotelawala PC CH KBE KStJ LLD\n"
     ]
    }
   ],
   "source": [
    "# print text splitted in sections\n",
    "def print_sections(sections, level=0):\n",
    "        for s in sections:\n",
    "                print(\"%s: %s - \\n%s\" % (\"*\" * (level + 1), s.title, s.text))\n",
    "                print_sections(s.sections, level + 1)\n",
    "\n",
    "         \n",
    "print_sections(p.sections)"
   ]
  },
  {
   "cell_type": "markdown",
   "id": "amateur-deputy",
   "metadata": {},
   "source": [
    "# SPARQL test"
   ]
  },
  {
   "cell_type": "code",
   "execution_count": 9,
   "id": "several-circuit",
   "metadata": {},
   "outputs": [
    {
     "name": "stdout",
     "output_type": "stream",
     "text": [
      "['http://dbpedia.org/resource/Toronto_Maple_Leafs']\n"
     ]
    }
   ],
   "source": [
    "# perform query\n",
    "q = 'SELECT DISTINCT ?uri WHERE { <http://dbpedia.org/resource/Doug_Acomb> <http://dbpedia.org/property/playedFor> ?uri } '\n",
    "result = sparql.query('http://dbpedia.org/sparql', q)\n",
    "# print results\n",
    "for row in result:\n",
    "    print(sparql.unpack_row(row))"
   ]
  },
  {
   "cell_type": "code",
   "execution_count": 45,
   "id": "major-affiliation",
   "metadata": {},
   "outputs": [
    {
     "data": {
      "text/plain": [
       "['http://dbpedia.org/resource/Toronto_Maple_Leafs']"
      ]
     },
     "execution_count": 45,
     "metadata": {},
     "output_type": "execute_result"
    }
   ],
   "source": [
    "def get_answers(query):\n",
    "    answers = []\n",
    "    results = sparql.query('http://dbpedia.org/sparql', query)\n",
    "    for row in results:\n",
    "        answers.append(sparql.unpack_row(row)[0])        \n",
    "        \n",
    "    return answers\n",
    "get_answers(q)"
   ]
  },
  {
   "cell_type": "markdown",
   "id": "intermediate-telling",
   "metadata": {},
   "source": [
    "# LC-SQuAD"
   ]
  },
  {
   "cell_type": "code",
   "execution_count": 11,
   "id": "alpine-middle",
   "metadata": {},
   "outputs": [],
   "source": [
    "data = pd.read_json('../data/train-data.json')"
   ]
  },
  {
   "cell_type": "code",
   "execution_count": 12,
   "id": "detailed-protection",
   "metadata": {},
   "outputs": [
    {
     "data": {
      "text/html": [
       "<div>\n",
       "<style scoped>\n",
       "    .dataframe tbody tr th:only-of-type {\n",
       "        vertical-align: middle;\n",
       "    }\n",
       "\n",
       "    .dataframe tbody tr th {\n",
       "        vertical-align: top;\n",
       "    }\n",
       "\n",
       "    .dataframe thead th {\n",
       "        text-align: right;\n",
       "    }\n",
       "</style>\n",
       "<table border=\"1\" class=\"dataframe\">\n",
       "  <thead>\n",
       "    <tr style=\"text-align: right;\">\n",
       "      <th></th>\n",
       "      <th>_id</th>\n",
       "      <th>corrected_question</th>\n",
       "      <th>intermediary_question</th>\n",
       "      <th>sparql_query</th>\n",
       "      <th>sparql_template_id</th>\n",
       "    </tr>\n",
       "  </thead>\n",
       "  <tbody>\n",
       "    <tr>\n",
       "      <th>0</th>\n",
       "      <td>1501</td>\n",
       "      <td>How many movies did Stanley Kubrick direct?</td>\n",
       "      <td>How many &lt;movies&gt; are there whose &lt;director&gt; i...</td>\n",
       "      <td>SELECT DISTINCT COUNT(?uri) WHERE {?uri &lt;http:...</td>\n",
       "      <td>101</td>\n",
       "    </tr>\n",
       "    <tr>\n",
       "      <th>1</th>\n",
       "      <td>2586</td>\n",
       "      <td>Which city's foundeer is John Forbes?</td>\n",
       "      <td>What &lt;city&gt;'s &lt;founded by&gt; is &lt;John Forbes (Br...</td>\n",
       "      <td>SELECT DISTINCT ?uri WHERE {?uri &lt;http://dbped...</td>\n",
       "      <td>301</td>\n",
       "    </tr>\n",
       "    <tr>\n",
       "      <th>2</th>\n",
       "      <td>2653</td>\n",
       "      <td>What is the river whose mouth is in deadsea?</td>\n",
       "      <td>What is the &lt;river&gt; whose &lt;river mouth&gt; is &lt;De...</td>\n",
       "      <td>SELECT DISTINCT ?uri WHERE {?uri &lt;http://dbped...</td>\n",
       "      <td>301</td>\n",
       "    </tr>\n",
       "    <tr>\n",
       "      <th>3</th>\n",
       "      <td>1055</td>\n",
       "      <td>What is the allegiance of John Kotelawala ?</td>\n",
       "      <td>What is the &lt;allegiance&gt; of John Kotelawala ?</td>\n",
       "      <td>SELECT DISTINCT ?uri WHERE { &lt;http://dbpedia....</td>\n",
       "      <td>2</td>\n",
       "    </tr>\n",
       "    <tr>\n",
       "      <th>4</th>\n",
       "      <td>705</td>\n",
       "      <td>How many races have the horses bred by Jacques...</td>\n",
       "      <td>What is the total number of &lt;race&gt; of the &lt;rac...</td>\n",
       "      <td>SELECT DISTINCT COUNT(?uri) WHERE { ?x &lt;http:/...</td>\n",
       "      <td>105</td>\n",
       "    </tr>\n",
       "  </tbody>\n",
       "</table>\n",
       "</div>"
      ],
      "text/plain": [
       "    _id                                 corrected_question  \\\n",
       "0  1501        How many movies did Stanley Kubrick direct?   \n",
       "1  2586              Which city's foundeer is John Forbes?   \n",
       "2  2653       What is the river whose mouth is in deadsea?   \n",
       "3  1055        What is the allegiance of John Kotelawala ?   \n",
       "4   705  How many races have the horses bred by Jacques...   \n",
       "\n",
       "                               intermediary_question  \\\n",
       "0  How many <movies> are there whose <director> i...   \n",
       "1  What <city>'s <founded by> is <John Forbes (Br...   \n",
       "2  What is the <river> whose <river mouth> is <De...   \n",
       "3      What is the <allegiance> of John Kotelawala ?   \n",
       "4  What is the total number of <race> of the <rac...   \n",
       "\n",
       "                                        sparql_query  sparql_template_id  \n",
       "0  SELECT DISTINCT COUNT(?uri) WHERE {?uri <http:...                 101  \n",
       "1  SELECT DISTINCT ?uri WHERE {?uri <http://dbped...                 301  \n",
       "2  SELECT DISTINCT ?uri WHERE {?uri <http://dbped...                 301  \n",
       "3   SELECT DISTINCT ?uri WHERE { <http://dbpedia....                   2  \n",
       "4  SELECT DISTINCT COUNT(?uri) WHERE { ?x <http:/...                 105  "
      ]
     },
     "execution_count": 12,
     "metadata": {},
     "output_type": "execute_result"
    }
   ],
   "source": [
    "data.head(5)"
   ]
  },
  {
   "cell_type": "code",
   "execution_count": 13,
   "id": "prime-sauce",
   "metadata": {},
   "outputs": [
    {
     "data": {
      "text/html": [
       "<div>\n",
       "<style scoped>\n",
       "    .dataframe tbody tr th:only-of-type {\n",
       "        vertical-align: middle;\n",
       "    }\n",
       "\n",
       "    .dataframe tbody tr th {\n",
       "        vertical-align: top;\n",
       "    }\n",
       "\n",
       "    .dataframe thead th {\n",
       "        text-align: right;\n",
       "    }\n",
       "</style>\n",
       "<table border=\"1\" class=\"dataframe\">\n",
       "  <thead>\n",
       "    <tr style=\"text-align: right;\">\n",
       "      <th></th>\n",
       "      <th>corrected_question</th>\n",
       "      <th>sparql_query</th>\n",
       "    </tr>\n",
       "  </thead>\n",
       "  <tbody>\n",
       "    <tr>\n",
       "      <th>3</th>\n",
       "      <td>What is the allegiance of John Kotelawala ?</td>\n",
       "      <td>SELECT DISTINCT ?uri WHERE { &lt;http://dbpedia....</td>\n",
       "    </tr>\n",
       "    <tr>\n",
       "      <th>6</th>\n",
       "      <td>What is the region of Tom Perriello ?</td>\n",
       "      <td>SELECT DISTINCT ?uri WHERE { &lt;http://dbpedia....</td>\n",
       "    </tr>\n",
       "    <tr>\n",
       "      <th>9</th>\n",
       "      <td>Name the mascot of Austin College ?</td>\n",
       "      <td>SELECT DISTINCT ?uri WHERE { &lt;http://dbpedia....</td>\n",
       "    </tr>\n",
       "    <tr>\n",
       "      <th>13</th>\n",
       "      <td>Name the origin of Henry Cluney ?</td>\n",
       "      <td>SELECT DISTINCT ?uri WHERE { &lt;http://dbpedia....</td>\n",
       "    </tr>\n",
       "    <tr>\n",
       "      <th>19</th>\n",
       "      <td>Name the resting place of Charles Edward Magoon ?</td>\n",
       "      <td>SELECT DISTINCT ?uri WHERE { &lt;http://dbpedia....</td>\n",
       "    </tr>\n",
       "    <tr>\n",
       "      <th>...</th>\n",
       "      <td>...</td>\n",
       "      <td>...</td>\n",
       "    </tr>\n",
       "    <tr>\n",
       "      <th>3966</th>\n",
       "      <td>What is the political party to which Purnima B...</td>\n",
       "      <td>SELECT DISTINCT ?uri WHERE { &lt;http://dbpedia....</td>\n",
       "    </tr>\n",
       "    <tr>\n",
       "      <th>3972</th>\n",
       "      <td>What is the currency of Republic of Montenegro...</td>\n",
       "      <td>SELECT DISTINCT ?uri WHERE { &lt;http://dbpedia....</td>\n",
       "    </tr>\n",
       "    <tr>\n",
       "      <th>3974</th>\n",
       "      <td>What is the club of Perianne Jones ?</td>\n",
       "      <td>SELECT DISTINCT ?uri WHERE { &lt;http://dbpedia....</td>\n",
       "    </tr>\n",
       "    <tr>\n",
       "      <th>3994</th>\n",
       "      <td>List all the mmebers of  Mekong River Commission?</td>\n",
       "      <td>SELECT DISTINCT ?uri WHERE { &lt;http://dbpedia....</td>\n",
       "    </tr>\n",
       "    <tr>\n",
       "      <th>3999</th>\n",
       "      <td>List the team for which Doug Acomb played ?</td>\n",
       "      <td>SELECT DISTINCT ?uri WHERE { &lt;http://dbpedia....</td>\n",
       "    </tr>\n",
       "  </tbody>\n",
       "</table>\n",
       "<p>597 rows × 2 columns</p>\n",
       "</div>"
      ],
      "text/plain": [
       "                                     corrected_question  \\\n",
       "3           What is the allegiance of John Kotelawala ?   \n",
       "6                 What is the region of Tom Perriello ?   \n",
       "9                   Name the mascot of Austin College ?   \n",
       "13                    Name the origin of Henry Cluney ?   \n",
       "19    Name the resting place of Charles Edward Magoon ?   \n",
       "...                                                 ...   \n",
       "3966  What is the political party to which Purnima B...   \n",
       "3972  What is the currency of Republic of Montenegro...   \n",
       "3974               What is the club of Perianne Jones ?   \n",
       "3994  List all the mmebers of  Mekong River Commission?   \n",
       "3999        List the team for which Doug Acomb played ?   \n",
       "\n",
       "                                           sparql_query  \n",
       "3      SELECT DISTINCT ?uri WHERE { <http://dbpedia....  \n",
       "6      SELECT DISTINCT ?uri WHERE { <http://dbpedia....  \n",
       "9      SELECT DISTINCT ?uri WHERE { <http://dbpedia....  \n",
       "13     SELECT DISTINCT ?uri WHERE { <http://dbpedia....  \n",
       "19     SELECT DISTINCT ?uri WHERE { <http://dbpedia....  \n",
       "...                                                 ...  \n",
       "3966   SELECT DISTINCT ?uri WHERE { <http://dbpedia....  \n",
       "3972   SELECT DISTINCT ?uri WHERE { <http://dbpedia....  \n",
       "3974   SELECT DISTINCT ?uri WHERE { <http://dbpedia....  \n",
       "3994   SELECT DISTINCT ?uri WHERE { <http://dbpedia....  \n",
       "3999   SELECT DISTINCT ?uri WHERE { <http://dbpedia....  \n",
       "\n",
       "[597 rows x 2 columns]"
      ]
     },
     "execution_count": 13,
     "metadata": {},
     "output_type": "execute_result"
    }
   ],
   "source": [
    "questions = data[data.sparql_template_id == 2][['corrected_question', 'sparql_query']]\n",
    "questions"
   ]
  },
  {
   "cell_type": "code",
   "execution_count": 14,
   "id": "expected-patch",
   "metadata": {},
   "outputs": [
    {
     "name": "stdout",
     "output_type": "stream",
     "text": [
      "QUESTION: List the team for which Doug Acomb played ?\n",
      "SPARQL:  SELECT DISTINCT ?uri WHERE { <http://dbpedia.org/resource/Doug_Acomb> <http://dbpedia.org/property/playedFor> ?uri } \n",
      "POSSIBLE ANSWERS:  [['http://dbpedia.org/resource/Toronto_Maple_Leafs']]\n"
     ]
    }
   ],
   "source": [
    "# 3, 9 \n",
    "id = 3999\n",
    "q_ex = questions.loc[id]['corrected_question']\n",
    "sparql_ex = questions.loc[id]['sparql_query']\n",
    "print('QUESTION:', q_ex)\n",
    "print('SPARQL:', sparql_ex)\n",
    "print('POSSIBLE ANSWERS: ', get_answers(sparql_ex))"
   ]
  },
  {
   "cell_type": "markdown",
   "id": "abandoned-amazon",
   "metadata": {},
   "source": [
    "## NEL "
   ]
  },
  {
   "cell_type": "code",
   "execution_count": 22,
   "id": "coated-tanzania",
   "metadata": {},
   "outputs": [
    {
     "name": "stdout",
     "output_type": "stream",
     "text": [
      "['tok2vec', 'tagger', 'parser', 'ner', 'attribute_ruler', 'lemmatizer', 'dbpedia_spotlight']\n"
     ]
    }
   ],
   "source": [
    "# this is any existing model\n",
    "nlp = spacy.load('en_core_web_lg')\n",
    "# add the pipeline stage\n",
    "nlp.add_pipe('dbpedia_spotlight')\n",
    "# see the pipeline, the added stage is at the end\n",
    "print(nlp.pipe_names)"
   ]
  },
  {
   "cell_type": "code",
   "execution_count": 32,
   "id": "muslim-composite",
   "metadata": {},
   "outputs": [
    {
     "name": "stdout",
     "output_type": "stream",
     "text": [
      "Entities [('Doug Acomb', 'DBPEDIA_ENT', 'http://dbpedia.org/resource/Doug_Acomb')]\n"
     ]
    }
   ],
   "source": [
    "doc = nlp(q_ex)\n",
    "print(\"Entities\", [(ent.text, ent.label_, ent.kb_id_) for ent in doc.ents])"
   ]
  },
  {
   "cell_type": "code",
   "execution_count": 36,
   "id": "suffering-geometry",
   "metadata": {},
   "outputs": [],
   "source": [
    "ent = doc.ents[0].text"
   ]
  },
  {
   "cell_type": "code",
   "execution_count": null,
   "id": "bizarre-oriental",
   "metadata": {},
   "outputs": [],
   "source": []
  },
  {
   "cell_type": "code",
   "execution_count": null,
   "id": "hispanic-citizenship",
   "metadata": {},
   "outputs": [],
   "source": []
  },
  {
   "cell_type": "code",
   "execution_count": null,
   "id": "frozen-italy",
   "metadata": {},
   "outputs": [],
   "source": []
  },
  {
   "cell_type": "markdown",
   "id": "color-identity",
   "metadata": {},
   "source": [
    "## Search on wikipedia"
   ]
  },
  {
   "cell_type": "code",
   "execution_count": 38,
   "id": "interior-chance",
   "metadata": {},
   "outputs": [],
   "source": [
    "# id: 3\n",
    "# resource = 'Austin College'\n",
    "# subject = 'mascot'\n",
    "\n",
    "# id: 3999\n",
    "resource = ent\n",
    "subject = 'team'\n",
    "p = wiki.page(resource)"
   ]
  },
  {
   "cell_type": "code",
   "execution_count": 39,
   "id": "greater-trade",
   "metadata": {},
   "outputs": [
    {
     "name": "stdout",
     "output_type": "stream",
     "text": [
      "Playing career\n",
      "Answer: 'Toronto Maple Leafs' with score 0.7962615489959717\n",
      "##########\n",
      "Post-retirement\n",
      "Answer: 'hockey' with score 0.14017722010612488\n",
      "##########\n",
      "Career statistics\n",
      "Answer: 'Port Huron' with score 0.2455081343650818\n",
      "##########\n",
      "BEST ANSWER: 'Toronto Maple Leafs' with score 0.7962615489959717\n"
     ]
    }
   ],
   "source": [
    "max_score = 0\n",
    "best_answer = None\n",
    "# iterate on sections and find answer in each span\n",
    "for section in p.sections:\n",
    "    \n",
    "    #if subject in section.text: # look only in relevant sections???\n",
    "    if section.title != 'External links':\n",
    "        print(section.title)\n",
    "        context = section.text\n",
    "        # exlude empty sections (i.e. macro section intestation)\n",
    "        if context != '':\n",
    "            answer = qa(question=q_ex, context=context)\n",
    "            if answer['score'] > max_score:\n",
    "                max_score = answer['score']\n",
    "                best_answer = answer\n",
    "            print(f\"Answer: '{answer['answer']}' with score {answer['score']}\")\n",
    "            print('#'*10)\n",
    "\n",
    "# print best answer\n",
    "if best_answer is not None:  \n",
    "    print(f\"BEST ANSWER: '{best_answer['answer']}' with score {best_answer['score']}\")\n",
    "else:\n",
    "    print('Sorry, answer not found!')"
   ]
  }
 ],
 "metadata": {
  "kernelspec": {
   "display_name": "Python 3",
   "language": "python",
   "name": "python3"
  },
  "language_info": {
   "codemirror_mode": {
    "name": "ipython",
    "version": 3
   },
   "file_extension": ".py",
   "mimetype": "text/x-python",
   "name": "python",
   "nbconvert_exporter": "python",
   "pygments_lexer": "ipython3",
   "version": "3.8.6"
  }
 },
 "nbformat": 4,
 "nbformat_minor": 5
}