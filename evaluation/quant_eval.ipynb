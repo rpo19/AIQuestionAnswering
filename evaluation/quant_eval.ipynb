{
 "cells": [
  {
   "cell_type": "code",
   "execution_count": 18,
   "id": "complete-bridge",
   "metadata": {},
   "outputs": [],
   "source": [
    "import pandas as pd"
   ]
  },
  {
   "cell_type": "markdown",
   "id": "recreational-seventh",
   "metadata": {},
   "source": [
    "### Merge times and answer results"
   ]
  },
  {
   "cell_type": "code",
   "execution_count": 19,
   "id": "decent-picking",
   "metadata": {},
   "outputs": [],
   "source": [
    "def mergeTimesAndResults():\n",
    "    df_original = pd.read_csv('../data/eval-quant-out.csv')\n",
    "    df_topone = pd.read_csv('../data/eval-quant-out-topone.csv')\n",
    "    df_original[['ft_span_topone', 'kg_topone','ft_wiki_topone', 'ft_wiki_top3', 'ft_nernel_topone', 'ft_nernel_top3']] = df_topone[['ft_span_topone', 'kg_topone','ft_wiki_topone', 'ft_wiki_top3', 'ft_nernel_topone', 'ft_nernel_top3']]\n",
    "    df_original.drop(['ft_answer', 'kg_answer'], inplace=True, axis=1)\n",
    "    return df_original"
   ]
  },
  {
   "cell_type": "code",
   "execution_count": 20,
   "id": "third-championship",
   "metadata": {},
   "outputs": [],
   "source": [
    "df_final = mergeTimesAndResults()"
   ]
  },
  {
   "cell_type": "code",
   "execution_count": 21,
   "id": "rapid-seminar",
   "metadata": {},
   "outputs": [],
   "source": [
    "df_final.to_csv('../data/eval-quant-out-final.csv')"
   ]
  },
  {
   "cell_type": "markdown",
   "id": "native-motivation",
   "metadata": {},
   "source": [
    "### Compute performances"
   ]
  },
  {
   "cell_type": "code",
   "execution_count": 26,
   "id": "protecting-wichita",
   "metadata": {},
   "outputs": [],
   "source": [
    "df = pd.read_csv('../data/eval-quant-out-final.csv')"
   ]
  },
  {
   "cell_type": "code",
   "execution_count": 28,
   "id": "normal-mention",
   "metadata": {},
   "outputs": [],
   "source": [
    "def getAvgs(df):\n",
    "    return {\n",
    "        'kg_topone': df['kg_topone'].mean(),\n",
    "        'ft_span_topone': df['ft_span_topone'].mean(),\n",
    "        'ft_wiki_topone': df['ft_wiki_topone'].mean(),\n",
    "        'ft_wiki_top3': df['ft_wiki_top3'].mean(),\n",
    "        'ft_nernel_topone': df['ft_nernel_topone'].mean(),\n",
    "        'ft_nernel_top3': df['ft_nernel_top3'].mean()\n",
    "    }"
   ]
  },
  {
   "cell_type": "code",
   "execution_count": 29,
   "id": "nuclear-retreat",
   "metadata": {},
   "outputs": [
    {
     "data": {
      "text/plain": [
       "{'kg_topone': 1.2045454545454546,\n",
       " 'ft_span_topone': 1.2954545454545454,\n",
       " 'ft_wiki_topone': 0.6590909090909091,\n",
       " 'ft_wiki_top3': 1.0,\n",
       " 'ft_nernel_topone': 0.5,\n",
       " 'ft_nernel_top3': 0.9318181818181818}"
      ]
     },
     "execution_count": 29,
     "metadata": {},
     "output_type": "execute_result"
    }
   ],
   "source": [
    "getAvgs(df)"
   ]
  }
 ],
 "metadata": {
  "kernelspec": {
   "display_name": "Python 3",
   "language": "python",
   "name": "python3"
  },
  "language_info": {
   "codemirror_mode": {
    "name": "ipython",
    "version": 3
   },
   "file_extension": ".py",
   "mimetype": "text/x-python",
   "name": "python",
   "nbconvert_exporter": "python",
   "pygments_lexer": "ipython3",
   "version": "3.8.3"
  }
 },
 "nbformat": 4,
 "nbformat_minor": 5
}
