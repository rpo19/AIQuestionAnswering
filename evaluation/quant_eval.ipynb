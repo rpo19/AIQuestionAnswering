{
 "cells": [
  {
   "cell_type": "code",
   "execution_count": 1,
   "id": "complete-bridge",
   "metadata": {},
   "outputs": [],
   "source": [
    "import pandas as pd\n",
    "import numpy as np"
   ]
  },
  {
   "cell_type": "markdown",
   "id": "recreational-seventh",
   "metadata": {},
   "source": [
    "### Merge times and answer results"
   ]
  },
  {
   "cell_type": "code",
   "execution_count": 19,
   "id": "decent-picking",
   "metadata": {},
   "outputs": [],
   "source": [
    "def mergeTimesAndResults():\n",
    "    df_original = pd.read_csv('../data/eval-quant-out.csv')\n",
    "    df_topone = pd.read_csv('../data/eval-quant-out-topone.csv')\n",
    "    df_original[['ft_span_topone', 'kg_topone','ft_wiki_topone', 'ft_wiki_top3', 'ft_nernel_topone', 'ft_nernel_top3']] = df_topone[['ft_span_topone', 'kg_topone','ft_wiki_topone', 'ft_wiki_top3', 'ft_nernel_topone', 'ft_nernel_top3']]\n",
    "    df_original.drop(['ft_answer', 'kg_answer'], inplace=True, axis=1)\n",
    "    return df_original"
   ]
  },
  {
   "cell_type": "code",
   "execution_count": 20,
   "id": "third-championship",
   "metadata": {},
   "outputs": [],
   "source": [
    "df_final = mergeTimesAndResults()"
   ]
  },
  {
   "cell_type": "code",
   "execution_count": 21,
   "id": "rapid-seminar",
   "metadata": {},
   "outputs": [],
   "source": [
    "df_final.to_csv('../data/eval-quant-out-final.csv')"
   ]
  },
  {
   "cell_type": "markdown",
   "id": "native-motivation",
   "metadata": {},
   "source": [
    "### Compute performances"
   ]
  },
  {
   "cell_type": "code",
   "execution_count": 5,
   "id": "protecting-wichita",
   "metadata": {},
   "outputs": [],
   "source": [
    "df = pd.read_csv('../data/eval-quant-out-final.csv')"
   ]
  },
  {
   "cell_type": "code",
   "execution_count": 120,
   "id": "normal-mention",
   "metadata": {},
   "outputs": [],
   "source": [
    "def countAnswers(df):\n",
    "    return {\n",
    "        'kg_topone': df['kg_topone'].value_counts().sort_index(ascending=True),\n",
    "        'ft_span_topone': df['ft_span_topone'].value_counts().sort_index(ascending=True),\n",
    "        'ft_wiki_topone': df['ft_wiki_topone'].value_counts().sort_index(ascending=True),\n",
    "        'ft_wiki_top3': df['ft_wiki_top3'].value_counts().sort_index(ascending=True),\n",
    "        'ft_nernel_topone': df['ft_nernel_topone'].value_counts().sort_index(ascending=True),\n",
    "        'ft_nernel_top3': df['ft_nernel_top3'].value_counts().sort_index(ascending=True)\n",
    "    }\n",
    "\n",
    "def getAvgs(df):\n",
    "    return {\n",
    "        'kg_topone': df['kg_topone'].mean(),\n",
    "        'ft_span_topone': df['ft_span_topone'].mean(),\n",
    "        'ft_wiki_topone': df['ft_wiki_topone'].mean(),\n",
    "        'ft_wiki_top3': df['ft_wiki_top3'].mean(),\n",
    "        'ft_nernel_topone': df['ft_nernel_topone'].mean(),\n",
    "        'ft_nernel_top3': df['ft_nernel_top3'].mean()\n",
    "    }\n",
    "\n",
    "def getTimes(df):\n",
    "    return {\n",
    "        'kg': df['kg_time'].mean(),\n",
    "        'ft_span': df['ft_time'].mean(),\n",
    "        'ft_wiki': df['ft_wiki_time'].mean(),\n",
    "        'ft_nernel': df['ft_nernel_time'].mean(),\n",
    "    }\n",
    "\n",
    "def percentages(df):\n",
    "    value_counts = countAnswers(df)\n",
    "    percentages = dict()\n",
    "    for key, value in value_counts.items():\n",
    "        percentages[key] = {}\n",
    "        for index, n in enumerate(value.values):\n",
    "            s = np.sum(value.values)\n",
    "            perc = n/s * 100\n",
    "            percentages[key][index] = round(perc, 1)\n",
    "            if len(value.values) < 3 and index == len(value.values)-1:\n",
    "                percentages[key][index + 1] = 0\n",
    "    return percentages\n",
    "\n",
    "def getAcceptable(df):\n",
    "    value_counts = countAnswers(df)\n",
    "    perc = percentages(df)\n",
    "    acceptable = dict()\n",
    "    for key, value in value_counts.items():\n",
    "        n = 0\n",
    "        if 1 in value:\n",
    "            n = value[1] + value[2]\n",
    "        acceptable[key] = {'n': n, 'percentage': round(perc[key][1] + perc[key][2], 1)}\n",
    "    return acceptable"
   ]
  },
  {
   "cell_type": "code",
   "execution_count": 121,
   "id": "nuclear-retreat",
   "metadata": {},
   "outputs": [
    {
     "data": {
      "text/plain": [
       "{'kg_topone': 1.2045454545454546,\n",
       " 'ft_span_topone': 1.2954545454545454,\n",
       " 'ft_wiki_topone': 0.6590909090909091,\n",
       " 'ft_wiki_top3': 1.0,\n",
       " 'ft_nernel_topone': 0.5,\n",
       " 'ft_nernel_top3': 0.9318181818181818}"
      ]
     },
     "execution_count": 121,
     "metadata": {},
     "output_type": "execute_result"
    }
   ],
   "source": [
    "getAvgs(df)"
   ]
  },
  {
   "cell_type": "code",
   "execution_count": 122,
   "id": "likely-diploma",
   "metadata": {},
   "outputs": [
    {
     "data": {
      "text/plain": [
       "{'kg': 1.3815106316046282,\n",
       " 'ft_span': 0.5716171969066967,\n",
       " 'ft_wiki': 15.452782281609469,\n",
       " 'ft_nernel': 24.358425974845886}"
      ]
     },
     "execution_count": 122,
     "metadata": {},
     "output_type": "execute_result"
    }
   ],
   "source": [
    "getTimes(df)"
   ]
  },
  {
   "cell_type": "code",
   "execution_count": 123,
   "id": "oriented-patio",
   "metadata": {},
   "outputs": [
    {
     "data": {
      "text/plain": [
       "{'kg_topone': {0: 36.4, 1: 6.8, 2: 56.8},\n",
       " 'ft_span_topone': {0: 34.1, 1: 2.3, 2: 63.6},\n",
       " 'ft_wiki_topone': {0: 63.6, 1: 6.8, 2: 29.5},\n",
       " 'ft_wiki_top3': {0: 40.9, 1: 18.2, 2: 40.9},\n",
       " 'ft_nernel_topone': {0: 75.0, 1: 25.0, 2: 0},\n",
       " 'ft_nernel_top3': {0: 43.2, 1: 20.5, 2: 36.4}}"
      ]
     },
     "execution_count": 123,
     "metadata": {},
     "output_type": "execute_result"
    }
   ],
   "source": [
    "percentages(df)"
   ]
  },
  {
   "cell_type": "code",
   "execution_count": 124,
   "id": "valid-break",
   "metadata": {},
   "outputs": [
    {
     "data": {
      "text/plain": [
       "{'kg_topone': {'n': 28, 'percentage': 63.6},\n",
       " 'ft_span_topone': {'n': 29, 'percentage': 65.9},\n",
       " 'ft_wiki_topone': {'n': 16, 'percentage': 36.3},\n",
       " 'ft_wiki_top3': {'n': 26, 'percentage': 59.1},\n",
       " 'ft_nernel_topone': {'n': 0, 'percentage': 25.0},\n",
       " 'ft_nernel_top3': {'n': 25, 'percentage': 56.9}}"
      ]
     },
     "execution_count": 124,
     "metadata": {},
     "output_type": "execute_result"
    }
   ],
   "source": [
    "getAcceptable(df)"
   ]
  }
 ],
 "metadata": {
  "kernelspec": {
   "display_name": "Python 3",
   "language": "python",
   "name": "python3"
  },
  "language_info": {
   "codemirror_mode": {
    "name": "ipython",
    "version": 3
   },
   "file_extension": ".py",
   "mimetype": "text/x-python",
   "name": "python",
   "nbconvert_exporter": "python",
   "pygments_lexer": "ipython3",
   "version": "3.8.3"
  }
 },
 "nbformat": 4,
 "nbformat_minor": 5
}
